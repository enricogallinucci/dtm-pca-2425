{
 "cells": [
  {
   "cell_type": "markdown",
   "metadata": {},
   "source": [
    "## Lab 08: Expenses and Budgeting\n",
    "\n",
    "Welcome to the eigth lab of the course; we will do exercises on data structures and comprehension syntax simulating analysis of expenses."
   ]
  },
  {
   "cell_type": "markdown",
   "metadata": {},
   "source": [
    "## Exercise 1: Getting started\n",
    "\n",
    "Use comprehension syntax on `list_expenses` to\n",
    "- create a list where only the amount is kept\n",
    "- create a list where only expenses made to Uber are kept\n",
    "- create the set of dates in dd/mm/yyyy format (hint: split the date on '-' and concatenate the different pieces)\n",
    "- create a list of tuples with two elements: the price (rounded to no decimals) and the length of the recepient; this, only if the tuple in l1 contains the word \"util\" in the description of the expense\n",
    "- create the set of categories for which there is at least an expense of 60 euros"
   ]
  },
  {
   "cell_type": "code",
   "execution_count": 45,
   "metadata": {},
   "outputs": [],
   "source": [
    "list_expenses = [\n",
    "    ('2024-10-01','Starbucks',5.75,'Food & Drink'),\n",
    "    ('2024-10-05','Amazon',35.50,'Shopping'),\n",
    "    ('2024-10-08','Local Restaurant',28.75,'Food & Drink'),\n",
    "    ('2024-10-08','Uber',12.35,'Transportation'),\n",
    "    ('2024-10-08','Electric Company',102.45,'Utilities'),\n",
    "    ('2024-10-13','Walmart',68.20,'Groceries'),\n",
    "    ('2024-10-13','Cinema',13.99,'Entertainment'),\n",
    "    ('2024-10-13','Starbucks',4.50,'Food & Drink'),\n",
    "    ('2024-10-22','Walmart',78.90,'Groceries'),\n",
    "    ('2024-10-22','Water Utility',60.25,'Utilities'),\n",
    "    ('2024-10-25','Amazon',25.99,'Shopping'),\n",
    "    ('2024-10-25','Uber',10.75,'Transportation')\n",
    "]"
   ]
  },
  {
   "cell_type": "code",
   "execution_count": null,
   "metadata": {},
   "outputs": [],
   "source": [
    "# Expected outputs\n",
    "# [5.75, 82.45, 15.99, ... ]\n",
    "# [('2024-10-08', 'Uber', 12.35, 'Transportation'), ('2024-10-25', 'Uber', 10.75, 'Transportation')]\n",
    "# {'01/102024', '04/102024', '05/102024', ... }\n",
    "# [(60, 13)]\n",
    "# {'Groceries', 'Utilities'}"
   ]
  },
  {
   "cell_type": "markdown",
   "metadata": {},
   "source": [
    "## Exercise 2: Merging expenses\n",
    "\n",
    "If you have multiple bank accounts, each of themm will give you their own list of expenses, using different structures. The goal here is to merge them into a single, uniform list."
   ]
  },
  {
   "cell_type": "markdown",
   "metadata": {},
   "source": [
    "## 2.1 Mapping functions\n",
    "\n",
    "Assume the existence of a mapping dictionary (see below) to be used to replace keys and values in the list of expenses. Each dictionary item is structured as \n",
    "    \n",
    "    mapping['correct_key'] = (set_of_wrong_keys_to_be_replaced_with_correct_key, mapping_function_to_be_applied_to_values_with_wrong_keys)\n",
    "\n",
    "Complete the mapping dictionary by:\n",
    "- Creating a function that takes only the date part in a string that contains datetime field\n",
    "    - E.g., `date_polish(\"2024-01-01 08:15\")` must return '2024-01-01'\n",
    "- Adding a lambda functiont to the 'amount' key that takes in input a number and returns its value rounded to 2 decimals"
   ]
  },
  {
   "cell_type": "code",
   "execution_count": null,
   "metadata": {},
   "outputs": [],
   "source": [
    "mapping = dict()\n",
    "mapping['date'] = ({'datetime'}, date_polish)\n",
    "mapping['amount'] = ({'expense','value'})"
   ]
  },
  {
   "cell_type": "markdown",
   "metadata": {},
   "source": [
    "## 2.2 Count the number of items that need to be resolved\n",
    "\n",
    "- Create a set as the union of the values in the mapping dictionary\n",
    "- Iterate on the lists to verify if an item contains one of the keys that should be replaced"
   ]
  },
  {
   "cell_type": "code",
   "execution_count": 20,
   "metadata": {},
   "outputs": [],
   "source": [
    "mapping = dict()\n",
    "mapping['date'] = ({'datetime'}, date_polish)\n",
    "mapping['amount'] = ({'expense','value'})\n",
    "\n",
    "lists = [[\n",
    "    {'date': '2024-10-12', 'recipient': 'Starbucks', 'description': 'Coffee', 'amount': 495.37, 'category': 'Food & Drink'},\n",
    "    {'date': '2024-10-15', 'recipient': 'Starbucks', 'description': 'Coffee', 'amount': 484.96, 'category': 'Food & Drink'},\n",
    "    {'date': '2024-10-05', 'recipient': 'Starbucks', 'description': 'Coffee', 'value': 338.41003, 'category': 'Food & Drink'}\n",
    "],[\n",
    "    {'datetime': '2024-10-17 09:00', 'recipient': 'Uber', 'description': 'Fuel', 'amount': 200.44545, 'category': 'Transportation'},\n",
    "    {'datetime': '2024-10-10 10:30', 'recipient': 'Apple Store', 'description': 'Gadget purchase', 'amount': 69.46769, 'category': 'Electronics'},\n",
    "    {'datetime': '2024-10-21 11:45', 'recipient': 'Amazon', 'description': 'Online purchase', 'expense': 213.89211, 'category': 'Shopping'}\n",
    "]]"
   ]
  },
  {
   "cell_type": "code",
   "execution_count": null,
   "metadata": {},
   "outputs": [],
   "source": [
    "# Expected outputs\n",
    "# {'datetime', 'value', 'expense'}\n",
    "# 4"
   ]
  },
  {
   "cell_type": "markdown",
   "metadata": {},
   "source": [
    "## 2.3 Make consistent items\n",
    "\n",
    "- Unify the lists: instead of a list of lists of items, make it a single list of items\n",
    "- Iterate on the list to replace wrong keys with correct keys; use `item.pop(key)` to remove a key"
   ]
  },
  {
   "cell_type": "code",
   "execution_count": null,
   "metadata": {},
   "outputs": [],
   "source": [
    "# Expected output\n",
    "# [{'date': '2024-10-12', 'recipient': 'Starbucks', 'description': 'Coffee', 'amount': 495.37, 'category': 'Food & Drink'}, \n",
    "#  {'date': '2024-10-15', 'recipient': 'Starbucks', 'description': 'Coffee', 'amount': 484.96, 'category': 'Food & Drink'}, \n",
    "#  {'date': '2024-10-05', 'recipient': 'Starbucks', 'description': 'Coffee', 'category': 'Food & Drink', 'amount': 338.41}, \n",
    "#  {'recipient': 'Uber', 'description': 'Fuel', 'amount': 200.44, 'category': 'Transportation', 'date': '2024-10-17'}, \n",
    "#  {'recipient': 'Apple Store', 'description': 'Gadget purchase', 'amount': 69.46, 'category': 'Electronics', 'date': '2024-10-10'}, \n",
    "#  {'recipient': 'Amazon', 'description': 'Online purchase', 'category': 'Shopping', 'date': '2024-10-21', 'amount': 213.89}]"
   ]
  },
  {
   "cell_type": "markdown",
   "metadata": {},
   "source": [
    "## Exercise 3: Analyzing expenses\n",
    "\n",
    "Now that you have a single, uniform list of expenses, we can do some analysis"
   ]
  },
  {
   "cell_type": "code",
   "execution_count": 72,
   "metadata": {},
   "outputs": [],
   "source": [
    "list_expenses = [\n",
    "    ('2024-10-01','Starbucks',5.75,'Food & Drink'),\n",
    "    ('2024-10-01','Walmart',82.45,'Groceries'),\n",
    "    ('2024-10-01','Netflix',15.99,'Entertainment'),\n",
    "    ('2024-10-04','Shell Gas',45.60,'Transportation'),\n",
    "    ('2024-10-05','Apple Store',49.99,'Electronics'),\n",
    "    ('2024-10-05','Amazon',35.50,'Shopping'),\n",
    "    ('2024-10-08','Local Restaurant',28.75,'Food & Drink'),\n",
    "    ('2024-10-08','Uber',12.35,'Transportation'),\n",
    "    ('2024-10-08','Electric Company',102.45,'Utilities'),\n",
    "    ('2024-10-13','Walmart',68.20,'Groceries'),\n",
    "    ('2024-10-13','Cinema',13.99,'Entertainment'),\n",
    "    ('2024-10-13','Starbucks',4.50,'Food & Drink'),\n",
    "    ('2024-10-13','Walmart',90.67,'Groceries'),\n",
    "    ('2024-10-14','Local Restaurant',22.15,'Food & Drink'),\n",
    "    ('2024-10-15','Netflix',15.99,'Entertainment'),\n",
    "    ('2024-10-16','Target',58.90,'Shopping'),\n",
    "    ('2024-10-17','Shell Gas',52.10,'Transportation'),\n",
    "    ('2024-10-22','Apple Store',19.99,'Electronics'),\n",
    "    ('2024-10-22','Local Gym',40.00,'Health'),\n",
    "    ('2024-10-22','Starbucks',6.50,'Food & Drink'),\n",
    "    ('2024-10-22','Walmart',78.90,'Groceries'),\n",
    "    ('2024-10-22','Water Utility',60.25,'Utilities'),\n",
    "    ('2024-10-25','Amazon',25.99,'Shopping'),\n",
    "    ('2024-10-25','Uber',10.75,'Transportation'),\n",
    "    ('2024-10-25','Cinema',15.50,'Entertainment'),\n",
    "    ('2024-10-26','Local Restaurant',30.10,'Food & Drink'),\n",
    "    ('2024-10-27','Walmart',85.30,'Groceries'),\n",
    "    ('2024-10-28','Shell Gas',47.25,'Transportation'),\n",
    "    ('2024-10-30','Electric Company',101.85,'Utilities'),\n",
    "    ('2024-10-30','Starbucks',5.25,'Food & Drink')\n",
    "]\n",
    "\n",
    "category_acronyms = {\n",
    "    'Food & Drink': 'F&D',\n",
    "    'Groceries': 'GRO',\n",
    "    'Entertainment': 'ENT',\n",
    "    'Transportation': 'TRN',\n",
    "    'Electronics': 'ELE',\n",
    "    'Shopping': 'SHP',\n",
    "    'Utilities': 'UTL',\n",
    "    'Health': 'HLT'\n",
    "}"
   ]
  },
  {
   "cell_type": "markdown",
   "metadata": {},
   "source": [
    "## 3.1 Comprehension\n",
    "\n",
    "Use comprehension syntax to create a list of tuples where each tuples is composed by:\n",
    "- The day of the date\n",
    "- The description of the expense in reverse order,\n",
    "- The biggest multiple of ten that is lower than the expense (i.e., remove from the expense value the modulo 10, then round to 0 decimals)\n",
    "- The acronym of the category"
   ]
  },
  {
   "cell_type": "code",
   "execution_count": null,
   "metadata": {},
   "outputs": [],
   "source": [
    "# Expected output\n",
    "# [('01', 'skcubratS', 0, 'F&D'), ('01', 'tramlaW', 80, 'GRO'), ('01', 'xilfteN', 10, 'ENT'), ... ]"
   ]
  },
  {
   "cell_type": "markdown",
   "metadata": {},
   "source": [
    "## 3.2 Expenses by category\n",
    "\n",
    "Create a dictionary `expenses_by_category` where:\n",
    "- Keys are the categories\n",
    "- Values correspond to the total expenses of that category"
   ]
  },
  {
   "cell_type": "code",
   "execution_count": null,
   "metadata": {},
   "outputs": [],
   "source": [
    "# Expected output\n",
    "# {'Food & Drink': 103.0,\n",
    "#  'Groceries': 405.52000000000004,\n",
    "#  'Entertainment': 61.47,\n",
    "#  'Transportation': 168.05,\n",
    "#  'Electronics': 69.98,\n",
    "#  'Shopping': 120.39,\n",
    "#  'Utilities': 264.54999999999995,\n",
    "#  'Health': 40.0}"
   ]
  },
  {
   "cell_type": "markdown",
   "metadata": {},
   "source": [
    "## 3.3 Percentage of expenses by category\n",
    "\n",
    "Create a dictionary where \n",
    "- Keys are the categories\n",
    "- Values are the ratio of total expenses of that category over the total expenses in the list\n",
    "\n",
    "Hint: compute the totals by category as in 3.2, then use dictionary comprehension to compute percentages"
   ]
  },
  {
   "cell_type": "code",
   "execution_count": null,
   "metadata": {},
   "outputs": [],
   "source": [
    "# Expected output\n",
    "# {'Food & Drink': '0.08%',\n",
    "#  'Groceries': '0.33%',\n",
    "#  'Entertainment': '0.05%',\n",
    "#  'Transportation': '0.14%',\n",
    "#  'Electronics': '0.06%',\n",
    "#  'Shopping': '0.1%',\n",
    "#  'Utilities': '0.21%',\n",
    "#  'Health': '0.03%'}"
   ]
  },
  {
   "cell_type": "markdown",
   "metadata": {},
   "source": [
    "## 3.4 Budgeting\n",
    "\n",
    "Assume you have a budget for each category, specified in a dictionary. \n",
    "- Update that dictionary to indicate the new budget for the next month depending on how much you have saved/overspent on each category\n",
    "- Then, do the same but indicate the new value only if the new budget is lower than 10 euros; otherwise, consider the original value as the new budget.\n",
    "    - To do this defin\n",
    "\n",
    "Hint: in both cases, compute the totals by category as in 3.2, then rely only on comprehension syntax"
   ]
  },
  {
   "cell_type": "code",
   "execution_count": 78,
   "metadata": {},
   "outputs": [],
   "source": [
    "budget = {\n",
    "    'Food & Drink': 100,\n",
    "    'Groceries': 500,\n",
    "    'Entertainment': 100,\n",
    "    'Transportation': 150,\n",
    "    'Electronics': 70,\n",
    "    'Shopping': 100,\n",
    "    'Utilities': 250,\n",
    "    'Health': 100\n",
    "}"
   ]
  },
  {
   "cell_type": "code",
   "execution_count": null,
   "metadata": {},
   "outputs": [],
   "source": [
    "# Expected output\n",
    "# {'Food & Drink': 97.0,\n",
    "#  'Groceries': 594.48,\n",
    "#  'Entertainment': 138.53,\n",
    "#  'Transportation': 131.95,\n",
    "#  'Electronics': 70.02,\n",
    "#  'Shopping': 79.61,\n",
    "#  'Utilities': 235.45,\n",
    "#  'Health': 160.0}"
   ]
  },
  {
   "cell_type": "code",
   "execution_count": null,
   "metadata": {},
   "outputs": [],
   "source": [
    "# Expected output\n",
    "# {'Food & Drink': 100,\n",
    "#  'Groceries': 500,\n",
    "#  'Entertainment': 100,\n",
    "#  'Transportation': 131.95,\n",
    "#  'Electronics': 70,\n",
    "#  'Shopping': 79.61,\n",
    "#  'Utilities': 235.45,\n",
    "#  'Health': 100}"
   ]
  }
 ],
 "metadata": {
  "kernelspec": {
   "display_name": "Python 3",
   "language": "python",
   "name": "python3"
  },
  "language_info": {
   "codemirror_mode": {
    "name": "ipython",
    "version": 3
   },
   "file_extension": ".py",
   "mimetype": "text/x-python",
   "name": "python",
   "nbconvert_exporter": "python",
   "pygments_lexer": "ipython3",
   "version": "3.12.6"
  }
 },
 "nbformat": 4,
 "nbformat_minor": 2
}
