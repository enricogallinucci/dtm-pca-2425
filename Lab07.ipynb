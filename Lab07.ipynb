{
 "cells": [
  {
   "cell_type": "markdown",
   "metadata": {},
   "source": [
    "# Lab 7: Investing time in functions and data structures\n",
    "\n",
    "Welcome to the seventh lab of the course; we will do exercises on financial investments exploiting functions and data structures.\n",
    "\n",
    "**DISCLAIMERS**\n",
    "- No investing recommendations are given here\n",
    "- Implemented procedures are exemplified and not guaranteed to be accurate"
   ]
  },
  {
   "cell_type": "markdown",
   "metadata": {},
   "source": [
    "## Exercise 1: Interests\n",
    "\n",
    "Create a function called 'calculate_interests' that takes in input:\n",
    "- 'capital': the amount of money you invest\n",
    "- 'interest_as_percentage': a number that indicates the percentage of interests\n",
    "and returns the amount of money earned.\n",
    "\n",
    "For instance,\n",
    "\n",
    "    calculate_interests(1000,2)\n",
    "\n",
    "returns 20.0 (i.e., the 2% of 1000).\n"
   ]
  },
  {
   "cell_type": "code",
   "execution_count": 9,
   "metadata": {},
   "outputs": [],
   "source": [
    "def calculate_interests(capital,interest_as_percentage):\n",
    "    # TODO EXERCISE"
   ]
  },
  {
   "cell_type": "code",
   "execution_count": 8,
   "metadata": {},
   "outputs": [
    {
     "data": {
      "text/plain": [
       "20.0"
      ]
     },
     "execution_count": 8,
     "metadata": {},
     "output_type": "execute_result"
    }
   ],
   "source": [
    "calculate_interests(1000,2)"
   ]
  },
  {
   "cell_type": "markdown",
   "metadata": {},
   "source": [
    "## Exercise 2: Compound interests\n",
    "\n",
    "Interests must be applied every year. Define a function 'invest' that takes in input:\n",
    "- 'capital': the amount of money you invest\n",
    "- 'yearly_interest_as_percentage': the interest to be applied **every year**\n",
    "- 'number_of_year': how many years you plan to invest\n",
    "and *prints*, year after year, the amount of money earner and the new capital; use 'round(num,2)' to round a number 'num' to 2 decimals.\n",
    "\n",
    "For instance,\n",
    "\n",
    "    invest(1000,1,5)\n",
    "\n",
    "returns\n",
    "\n",
    "> You start with 1000  \n",
    "> In the year 1 you have earned 10.0; you now have 1010.0  \n",
    "> In the year 2 you have earned 10.1; you now have 1020.1  \n",
    "> In the year 3 you have earned 10.2; you now have 1030.3  \n",
    "> In the year 4 you have earned 10.3; you now have 1040.6  \n",
    "> In the year 5 you have earned 10.41; you now have 1051.\n",
    "\n",
    "What does it take to get this output?"
   ]
  },
  {
   "cell_type": "code",
   "execution_count": 39,
   "metadata": {},
   "outputs": [],
   "source": [
    "def invest(capital, yearly_interest_as_percentage, number_of_years):\n",
    "    # TODO EXERCISE"
   ]
  },
  {
   "cell_type": "code",
   "execution_count": 40,
   "metadata": {},
   "outputs": [
    {
     "name": "stdout",
     "output_type": "stream",
     "text": [
      "You start with 1000\n",
      "In the year 1 you have earned 10.0; you now have 1010.0\n",
      "In the year 2 you have earned 10.1; you now have 1020.1\n",
      "In the year 3 you have earned 10.2; you now have 1030.3\n",
      "In the year 4 you have earned 10.3; you now have 1040.6\n",
      "In the year 5 you have earned 10.41; you now have 1051.01\n"
     ]
    }
   ],
   "source": [
    "invest(1000,1,5)"
   ]
  },
  {
   "cell_type": "markdown",
   "metadata": {},
   "source": [
    "## Exercise 3: Calculate the profit\n",
    "\n",
    "Define a function 'invest2' that works as above, but also calculates the profit at the end of the investment.\n",
    "\n",
    "For instance,\n",
    "\n",
    "    invest2(1000,1,5)\n",
    "\n",
    "returns the following (only the last line is different from Exercise 2)\n",
    "\n",
    "> You start with 1000  \n",
    "> In the year 1 you have earned 10.0; you now have 1010.0  \n",
    "> In the year 2 you have earned 10.1; you now have 1020.1  \n",
    "> In the year 3 you have earned 10.2; you now have 1030.3  \n",
    "> In the year 4 you have earned 10.3; you now have 1040.6  \n",
    "> In the year 5 you have earned 10.41; you now have 1051.01\n",
    "> In the end, your profit is 51.01\n",
    "\n",
    "What does it take to get this output?"
   ]
  },
  {
   "cell_type": "code",
   "execution_count": 41,
   "metadata": {},
   "outputs": [],
   "source": [
    "def invest2(capital, yearly_interest_as_percentage, number_of_years):\n",
    "    # TODO EXERCISE"
   ]
  },
  {
   "cell_type": "code",
   "execution_count": 42,
   "metadata": {},
   "outputs": [
    {
     "name": "stdout",
     "output_type": "stream",
     "text": [
      "You start with 1000\n",
      "In the year 1 you have earned 10.0; you now have 1010.0\n",
      "In the year 2 you have earned 10.1; you now have 1020.1\n",
      "In the year 3 you have earned 10.2; you now have 1030.3\n",
      "In the year 4 you have earned 10.3; you now have 1040.6\n",
      "In the year 5 you have earned 10.41; you now have 1051.01\n",
      "In the end, your profit is 51.01\n"
     ]
    }
   ],
   "source": [
    "invest2(1000,1,5)"
   ]
  },
  {
   "cell_type": "markdown",
   "metadata": {},
   "source": [
    "## Exercise 4: Taxes\n",
    "\n",
    "Profits must be taxed. Define a function 'remove_taxes' that takes in input:\n",
    "- 'amount': an amount of money\n",
    "- 'tax_percentage': the percentage of taxes to apply\n",
    "and returns the amount without taxes.\n",
    "\n",
    "For instance,\n",
    "\n",
    "    remove_taxes(1000,26)\n",
    "\n",
    "returns 740.0 (i.e., 1000-26%)."
   ]
  },
  {
   "cell_type": "code",
   "execution_count": 22,
   "metadata": {},
   "outputs": [],
   "source": [
    "def remove_taxes(amount, tax_percentage):\n",
    "    # TODO EXERCISE"
   ]
  },
  {
   "cell_type": "code",
   "execution_count": 58,
   "metadata": {},
   "outputs": [
    {
     "data": {
      "text/plain": [
       "740.0"
      ]
     },
     "execution_count": 58,
     "metadata": {},
     "output_type": "execute_result"
    }
   ],
   "source": [
    "remove_taxes(1000,26)"
   ]
  },
  {
   "cell_type": "markdown",
   "metadata": {},
   "source": [
    "## Exercise 5: Include taxes in the investment\n",
    "\n",
    "Define a function 'invest3' that works as 'invest2', but also removes taxes from the profit. The percentage of taxes must be given in input, with a default value of 26. **Notice**: taxes are applied only if the profit is positive! \n",
    "\n",
    "For instance,\n",
    "\n",
    "    invest3(1000,1,5)\n",
    "\n",
    "returns the following\n",
    "\n",
    "> You start with 1000  \n",
    "> In the year 1 you have earned 10.0; you now have 1010.0  \n",
    "> In the year 2 you have earned 10.1; you now have 1020.1  \n",
    "> In the year 3 you have earned 10.2; you now have 1030.3  \n",
    "> In the year 4 you have earned 10.3; you now have 1040.6  \n",
    "> In the year 5 you have earned 10.41; you now have 1051.01  \n",
    "> Your gross profit is 51.01  \n",
    "> After taxes, your net profit is 37.75, so you end up with a total of 1037.75"
   ]
  },
  {
   "cell_type": "code",
   "execution_count": 45,
   "metadata": {},
   "outputs": [],
   "source": [
    "def invest3(capital, yearly_interest_as_percentage, number_of_years, tax_percentage=26):\n",
    "    # TODO EXERCISE"
   ]
  },
  {
   "cell_type": "code",
   "execution_count": 46,
   "metadata": {},
   "outputs": [
    {
     "name": "stdout",
     "output_type": "stream",
     "text": [
      "You start with 1000\n",
      "In the year 1 you have earned 10.0; you now have 1010.0\n",
      "In the year 2 you have earned 10.1; you now have 1020.1\n",
      "In the year 3 you have earned 10.2; you now have 1030.3\n",
      "In the year 4 you have earned 10.3; you now have 1040.6\n",
      "In the year 5 you have earned 10.41; you now have 1051.01\n",
      "Your gross profit is 51.01\n",
      "After taxes, your net profit is 37.75, so you end up with a total of 1037.75\n"
     ]
    }
   ],
   "source": [
    "invest3(1000,1,5)"
   ]
  },
  {
   "cell_type": "markdown",
   "metadata": {},
   "source": [
    "## Exercise 6: Include costs in the investment\n",
    "\n",
    "Usually, investments have costs, that must be considered every year. The percentage of costs must be given in input, with a default value of 2. **Notice**: every year, costs are calculated based on the value of capital+interests in such year.\n",
    "\n",
    "Define a function 'invest4' that works like 'invest3' but also includes the costs. For instance,\n",
    "\n",
    "    invest4(1000,1,5)\n",
    "\n",
    "returns the following\n",
    "\n",
    "> You start with 1000  \n",
    "> In the year 1 you have earned 10.0 and paid 5.05; you now have 1004.95  \n",
    "> In the year 2 you have earned 10.05 and paid 5.07; you now have 1009.92  \n",
    "> In the year 3 you have earned 10.1 and paid 5.1; you now have 1014.92  \n",
    "> In the year 4 you have earned 10.15 and paid 5.13; you now have 1019.95  \n",
    "> In the year 5 you have earned 10.2 and paid 5.15; you now have 1025.0  \n",
    "> Your gross profit is 25.0  \n",
    "> After taxes, your net profit is 18.5, so you end up with a total of 1018.5  "
   ]
  },
  {
   "cell_type": "code",
   "execution_count": 59,
   "metadata": {},
   "outputs": [],
   "source": [
    "def invest4(capital, yearly_interest_as_percentage, number_of_years, tax_percentage=26, yearly_cost_as_percentage=2):\n",
    "    # TODO EXERCISE"
   ]
  },
  {
   "cell_type": "code",
   "execution_count": 60,
   "metadata": {},
   "outputs": [
    {
     "name": "stdout",
     "output_type": "stream",
     "text": [
      "You start with 1000\n",
      "In the year 1 you have earned 10.0 and paid 5.05; you now have 1004.95\n",
      "In the year 2 you have earned 10.05 and paid 5.07; you now have 1009.92\n",
      "In the year 3 you have earned 10.1 and paid 5.1; you now have 1014.92\n",
      "In the year 4 you have earned 10.15 and paid 5.13; you now have 1019.95\n",
      "In the year 5 you have earned 10.2 and paid 5.15; you now have 1025.0\n",
      "Your gross profit is 25.0\n",
      "After taxes, your net profit is 18.5, so you end up with a total of 1018.5\n"
     ]
    }
   ],
   "source": [
    "invest4(1000,1,5,yearly_cost_as_percentage=0.5)"
   ]
  },
  {
   "cell_type": "markdown",
   "metadata": {},
   "source": [
    "## Exercise 7: Variable interests\n",
    "\n",
    "Interests change every year, and they are not always positive. Define a function 'invest5' that works like 'invest4', but where:\n",
    "- the parameter 'yearly_interest_as_percentage' is replaced with 'yearly_interests_as_percentages' as a list of interests\n",
    "- the parameter 'number_of_years' is not needed anymore (it is implict in the length of 'yearly_interests_as_percentages')\n",
    "\n",
    "For instance,\n",
    "\n",
    "    invest5(1000,[1,-2,3,-4,5],yearly_cost_as_percentage=0.5)\n",
    "\n",
    "returns the following\n",
    "\n",
    "> You start with 1000\n",
    "> In the year 1 you have earned 10.0 and paid 5.05; you now have 1004.95  \n",
    "> In the year 2 you have earned -20.1 and paid 4.92; you now have 979.93  \n",
    "> In the year 3 you have earned 29.4 and paid 5.05; you now have 1004.28  \n",
    "> In the year 4 you have earned -40.17 and paid 4.82; you now have 959.29  \n",
    "> In the year 5 you have earned 47.96 and paid 5.04; you now have 1002.21  \n",
    "> Your gross profit is 2.21  \n",
    "> After taxes, your net profit is 1.64, so you end up with a total of 1001.64"
   ]
  },
  {
   "cell_type": "code",
   "execution_count": 64,
   "metadata": {},
   "outputs": [],
   "source": [
    "def invest5(capital, yearly_interests_as_percentages, tax_percentage=26, yearly_cost_as_percentage=2):\n",
    "    # TODO EXERCISE"
   ]
  },
  {
   "cell_type": "code",
   "execution_count": 65,
   "metadata": {},
   "outputs": [
    {
     "name": "stdout",
     "output_type": "stream",
     "text": [
      "You start with 1000\n",
      "In the year 1 you have earned 10.0 and paid 5.05; you now have 1004.95\n",
      "In the year 2 you have earned -20.1 and paid 4.92; you now have 979.93\n",
      "In the year 3 you have earned 29.4 and paid 5.05; you now have 1004.28\n",
      "In the year 4 you have earned -40.17 and paid 4.82; you now have 959.29\n",
      "In the year 5 you have earned 47.96 and paid 5.04; you now have 1002.21\n",
      "Your gross profit is 2.21\n",
      "After taxes, your net profit is 1.64, so you end up with a total of 1001.64\n"
     ]
    }
   ],
   "source": [
    "invest5(1000,[1,-2,3,-4,5],yearly_cost_as_percentage=0.5)"
   ]
  },
  {
   "cell_type": "markdown",
   "metadata": {},
   "source": [
    "## Exercise 8: Make it a dict\n",
    "\n",
    "Instead of just printing data, put everything into a dictionary structured as follows.\n",
    "\n",
    "    {\n",
    "        initialInvestment: 1000\n",
    "        yearlyInvestments: [\n",
    "            {initialCapital: 1000, year: 1, interest_perc: 1, interests: 10.0, cost: 5.05, newCapital: 1004.95}\n",
    "            ...    \n",
    "        ]\n",
    "        grossProfit: 2.21\n",
    "        netProfit: 1.64\n",
    "        finalAmount: 1001.64\n",
    "    }"
   ]
  },
  {
   "cell_type": "code",
   "execution_count": null,
   "metadata": {},
   "outputs": [],
   "source": [
    "def invest6(capital, yearly_interests_as_percentages, tax_percentage=26, yearly_cost_as_percentage=2):\n",
    "    # TODO EXERCISE"
   ]
  }
 ],
 "metadata": {
  "kernelspec": {
   "display_name": "Python 3",
   "language": "python",
   "name": "python3"
  },
  "language_info": {
   "codemirror_mode": {
    "name": "ipython",
    "version": 3
   },
   "file_extension": ".py",
   "mimetype": "text/x-python",
   "name": "python",
   "nbconvert_exporter": "python",
   "pygments_lexer": "ipython3",
   "version": "3.12.6"
  }
 },
 "nbformat": 4,
 "nbformat_minor": 2
}
