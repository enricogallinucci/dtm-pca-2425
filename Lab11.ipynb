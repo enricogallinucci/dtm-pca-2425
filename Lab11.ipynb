{
 "cells": [
  {
   "cell_type": "markdown",
   "id": "f5d6bef9",
   "metadata": {
    "deletable": true,
    "editable": true
   },
   "source": [
    "# Lab 11: Old exams\n",
    "\n",
    "Welcome to the last lab of the course. This lab proposes exercises of old exams in preparation for the next ones."
   ]
  },
  {
   "cell_type": "markdown",
   "id": "c4861902-d8d2-490a-acc6-79a2f97d7a5e",
   "metadata": {},
   "source": [
    "## January 18, 2022\n",
    "\n",
    "### Exercise 3\n",
    "\n",
    "Write a Python function called ```calculate(list1, list2)``` that takes two lists of integer numbers as parameters. You can assume the two lists contain the same number of elements. The function must return a list of tuples ```(n1, n2)``` with the same length of the input lists, where:\n",
    "- n1 is the sum of the corresponding numbers in the lists,\n",
    "- n2 is the product of the corresponding numbers in the lists.\n",
    "\n",
    "For example, ```calculate([2, 1, 3], [-3, 2, 5])``` must return ```[(-1, -6), (3, 2), (8, 15)]```\n",
    "\n",
    "*Hint: see Lab06, Exercise 5*"
   ]
  },
  {
   "cell_type": "code",
   "execution_count": null,
   "id": "94436549-dda9-4d0a-a328-0de51bea07be",
   "metadata": {
    "tags": []
   },
   "outputs": [],
   "source": [
    "calculate([2, 1, 3], [-3, 2, 5])"
   ]
  },
  {
   "cell_type": "markdown",
   "id": "7c9befd1-a631-4812-b3f6-e27c30b7d0bf",
   "metadata": {},
   "source": [
    "### Exercise 4\n",
    "\n",
    "Write a Python function called find(ls) that takes a list of strings ```ls``` as a parameter and returns the string that contains the greatest number of \"e\". If the list is empty, the function must return ```None```. \n",
    "\n",
    "For example, ```find(['January','April','July','September','November'])``` must return ```'September'```"
   ]
  },
  {
   "cell_type": "code",
   "execution_count": null,
   "id": "582b6135-a62e-4962-93ef-d7b0660aca9c",
   "metadata": {
    "tags": []
   },
   "outputs": [],
   "source": [
    "find(['January','April','July','September','November'])"
   ]
  },
  {
   "cell_type": "markdown",
   "id": "6b9186eb-6bd8-47e2-b5de-0265fa51155a",
   "metadata": {},
   "source": [
    "## January 18, 2023\n",
    "\n",
    "### Exercise 3\n",
    "\n",
    "Write a Python function ```fun(a, b)``` that takes two parameters. ```a``` and ```b``` are two lists with the same length: each list contains tuples of integers. The function must return a list of tuples, where each tuple contains only the numbers contained in both corresponding tuples of ```a``` and ```b```.\n",
    "\n",
    "For example, ```fun([(1,2,4), (3,6,7), (7,8,9)], [(1,3,5), (3,7,545), (1,2,3)])``` must return ```[(1,), (3,7), ()]```"
   ]
  },
  {
   "cell_type": "code",
   "execution_count": null,
   "id": "ff62265f-8ef1-4eed-8c7d-f41cc29ae242",
   "metadata": {
    "tags": []
   },
   "outputs": [],
   "source": [
    "fun([(1,2,4), (3,6,7), (7,8,9)], [(1,3,5), (3,7,545), (1,2,3)])"
   ]
  },
  {
   "cell_type": "markdown",
   "id": "1e19076a-7586-4e57-9bc5-f5853dd7dc7f",
   "metadata": {},
   "source": [
    "### Exercise 4\n",
    "\n",
    "Write a Python function ```fun2(d)``` that takes a dictionary ```d``` mapping str:int and returns a tuple ```(k_min,k_max, v_sum)```, where: ```k_min``` is the key of the element with the smallest value in the dictionary, ```k_max``` is the key of the element with the largest value in the dictionary, ```v_sum``` is the sum of all the values in the dictionary.\n",
    "\n",
    "For example, ```fun2({\"A\": 3, \"O\": 99, \"C\": 4, \"D\": 7, \"K\": -3})``` must return ```('K', 'O', 110)```"
   ]
  },
  {
   "cell_type": "code",
   "execution_count": null,
   "id": "9a5cf38f-9bb6-40ad-ba02-a962e66229ab",
   "metadata": {
    "tags": []
   },
   "outputs": [],
   "source": [
    "fun2({\"A\": 3, \"O\": 99, \"C\": 4, \"D\": 7, \"K\": -3})"
   ]
  },
  {
   "cell_type": "markdown",
   "id": "dd27d8b4-e06d-4db9-9e4d-a7b9c41f9997",
   "metadata": {},
   "source": [
    "## June 20, 2023\n",
    "\n",
    "### Exercise 3\n",
    "\n",
    "Write a Python function ```fun(a, b)``` that takes two parameters. ```a``` is a dictionary mapping str:int, ```b``` is a list of strings. \n",
    "The function must return a dictionary ```r``` mapping str:int and containing, for each key:value pair ```k: v``` in ```a```, ```b[v]``` if ```0 <= v < len(b)```, otherwise the string 'not found'.\n",
    "\n",
    "For example, ```fun({'a': 2, 'b': -1, 'c': 1}, ['x', 'y', 'z'])``` must return ```{'a': 'z', 'b': 'not found', 'c': 'y'}```"
   ]
  },
  {
   "cell_type": "code",
   "execution_count": null,
   "id": "f779aed5-8915-44c2-a7d5-e8ab5faa4779",
   "metadata": {
    "tags": []
   },
   "outputs": [],
   "source": [
    "fun({'a': 2, 'b': -1, 'c': 1}, ['x', 'y', 'z'])"
   ]
  },
  {
   "cell_type": "markdown",
   "id": "09215f2c-b916-409d-b107-7163c97d3e3f",
   "metadata": {},
   "source": [
    "### Exercise 4\n",
    "\n",
    "Write a Python function ```fun2(d)``` that takes a dictionary ```d``` mapping str:str and returns a tuple ```((k_min, v_min), (k_max, v_max))```, where: ```(k_min, v_min)``` is the key:value pair whose value is the shortest one among all dictionary values, ```(k_max, v_max)``` is the key_value pair whose value is the longest one.\n",
    "\n",
    "For example, ```fun2({\"B\": \"Blue\", \"Y\": \"Yellow\", \"R\": \"Red\", \"G\": \"Green\"})``` must return ```((\"R\",\"Red\"),(\"Y\",\"Yellow\"))```"
   ]
  },
  {
   "cell_type": "code",
   "execution_count": null,
   "id": "d463f807-8c56-4977-97a8-98f9d0c62ee7",
   "metadata": {
    "tags": []
   },
   "outputs": [],
   "source": [
    "fun2({\"B\": \"Blue\", \"Y\": \"Yellow\", \"R\": \"Red\", \"G\": \"Green\"})"
   ]
  }
 ],
 "metadata": {
  "kernelspec": {
   "display_name": "Python 3 (ipykernel)",
   "language": "python",
   "name": "python3"
  },
  "language_info": {
   "codemirror_mode": {
    "name": "ipython",
    "version": 3
   },
   "file_extension": ".py",
   "mimetype": "text/x-python",
   "name": "python",
   "nbconvert_exporter": "python",
   "pygments_lexer": "ipython3",
   "version": "3.11.4"
  },
  "toc-autonumbering": false,
  "toc-showcode": true,
  "toc-showmarkdowntxt": true,
  "toc-showtags": true
 },
 "nbformat": 4,
 "nbformat_minor": 5
}
