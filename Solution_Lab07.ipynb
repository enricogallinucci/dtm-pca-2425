{
 "cells": [
  {
   "cell_type": "markdown",
   "metadata": {},
   "source": [
    "# Lab 7: Investing time in functions and data structures\n",
    "\n",
    "Welcome to the seventh lab of the course; we will do exercises on financial investments exploiting functions and data structures.\n",
    "\n",
    "**DISCLAIMERS**\n",
    "- No investing recommendations are given here\n",
    "- Implemented procedures are exemplified and not guaranteed to be accurate"
   ]
  },
  {
   "cell_type": "markdown",
   "metadata": {},
   "source": [
    "## Exercise 1: Interests\n",
    "\n",
    "Create a function called 'calculate_interests' that takes in input:\n",
    "- 'capital': the amount of money you invest\n",
    "- 'interest_as_percentage': a number that indicates the percentage of interests\n",
    "and returns the amount of money earned.\n",
    "\n",
    "For instance,\n",
    "\n",
    "    calculate_interests(1000,2)\n",
    "\n",
    "returns 20.0 (i.e., the 2% of 1000).\n"
   ]
  },
  {
   "cell_type": "code",
   "execution_count": 3,
   "metadata": {},
   "outputs": [],
   "source": [
    "def calculate_interests(capital,interest_as_percentage):\n",
    "    return capital * interest_as_percentage/100"
   ]
  },
  {
   "cell_type": "code",
   "execution_count": 8,
   "metadata": {},
   "outputs": [
    {
     "data": {
      "text/plain": [
       "20.0"
      ]
     },
     "execution_count": 8,
     "metadata": {},
     "output_type": "execute_result"
    }
   ],
   "source": [
    "calculate_interests(1000,2)"
   ]
  },
  {
   "cell_type": "markdown",
   "metadata": {},
   "source": [
    "## Exercise 2: Compound interests\n",
    "\n",
    "Interests must be applied every year. Define a function 'invest' that takes in input:\n",
    "- 'capital': the amount of money you invest\n",
    "- 'yearly_interest_as_percentage': the interest to be applied **every year**\n",
    "- 'number_of_year': how many years you plan to invest\n",
    "and *prints*, year after year, the amount of money earner and the new capital; use 'round(num,2)' to round a number 'num' to 2 decimals.\n",
    "\n",
    "For instance,\n",
    "\n",
    "    invest(1000,1,5)\n",
    "\n",
    "returns\n",
    "\n",
    "> You start with 1000  \n",
    "> In the year 1 you have earned 10.0; you now have 1010.0  \n",
    "> In the year 2 you have earned 10.1; you now have 1020.1  \n",
    "> In the year 3 you have earned 10.2; you now have 1030.3  \n",
    "> In the year 4 you have earned 10.3; you now have 1040.6  \n",
    "> In the year 5 you have earned 10.41; you now have 1051.01\n",
    "\n",
    "What does it take to get this output?"
   ]
  },
  {
   "cell_type": "code",
   "execution_count": 1,
   "metadata": {},
   "outputs": [],
   "source": [
    "def invest(capital, yearly_interest_as_percentage, number_of_years):\n",
    "    print(f\"You start with {capital}\")\n",
    "    for i in range(number_of_years):\n",
    "        interests = calculate_interests(capital,yearly_interest_as_percentage)\n",
    "        capital = capital + interests\n",
    "        print(f\"In the year {i+1} you have earned {round(interests,2)}; you now have {round(capital,2)}\")\n",
    "    return"
   ]
  },
  {
   "cell_type": "code",
   "execution_count": 4,
   "metadata": {},
   "outputs": [
    {
     "name": "stdout",
     "output_type": "stream",
     "text": [
      "You start with 1000\n",
      "In the year 1 you have earned 10.0; you now have 1010.0\n",
      "In the year 2 you have earned 10.1; you now have 1020.1\n",
      "In the year 3 you have earned 10.2; you now have 1030.3\n",
      "In the year 4 you have earned 10.3; you now have 1040.6\n",
      "In the year 5 you have earned 10.41; you now have 1051.01\n"
     ]
    }
   ],
   "source": [
    "invest(1000,1,5)"
   ]
  },
  {
   "cell_type": "markdown",
   "metadata": {},
   "source": [
    "## Exercise 3: Calculate the profit\n",
    "\n",
    "Define a function 'invest2' that works as above, but also calculates the profit at the end of the investment.\n",
    "\n",
    "For instance,\n",
    "\n",
    "    invest2(1000,1,5)\n",
    "\n",
    "returns the following (only the last line is different from Exercise 2)\n",
    "\n",
    "> You start with 1000  \n",
    "> In the year 1 you have earned 10.0; you now have 1010.0  \n",
    "> In the year 2 you have earned 10.1; you now have 1020.1  \n",
    "> In the year 3 you have earned 10.2; you now have 1030.3  \n",
    "> In the year 4 you have earned 10.3; you now have 1040.6  \n",
    "> In the year 5 you have earned 10.41; you now have 1051.01\n",
    "> In the end, your profit is 51.01\n",
    "\n",
    "What does it take to get this output?"
   ]
  },
  {
   "cell_type": "code",
   "execution_count": 41,
   "metadata": {},
   "outputs": [],
   "source": [
    "def invest2(capital, yearly_interest_as_percentage, number_of_years):\n",
    "    initialInvestment = capital\n",
    "    \n",
    "    print(f\"You start with {capital}\")\n",
    "    for i in range(number_of_years):\n",
    "        interests = calculate_interests(capital,yearly_interest_as_percentage)\n",
    "        capital = capital + interests\n",
    "        print(f\"In the year {i+1} you have earned {round(interests,2)}; you now have {round(capital,2)}\")\n",
    "    \n",
    "    profit = capital - initialInvestment\n",
    "    \n",
    "    print(f\"In the end, your profit is {round(profit,2)}\")\n",
    "    return"
   ]
  },
  {
   "cell_type": "code",
   "execution_count": 42,
   "metadata": {},
   "outputs": [
    {
     "name": "stdout",
     "output_type": "stream",
     "text": [
      "You start with 1000\n",
      "In the year 1 you have earned 10.0; you now have 1010.0\n",
      "In the year 2 you have earned 10.1; you now have 1020.1\n",
      "In the year 3 you have earned 10.2; you now have 1030.3\n",
      "In the year 4 you have earned 10.3; you now have 1040.6\n",
      "In the year 5 you have earned 10.41; you now have 1051.01\n",
      "In the end, your profit is 51.01\n"
     ]
    }
   ],
   "source": [
    "invest2(1000,1,5)"
   ]
  },
  {
   "cell_type": "markdown",
   "metadata": {},
   "source": [
    "## Exercise 4: Taxes\n",
    "\n",
    "Profits must be taxed. Define a function 'remove_taxes' that takes in input:\n",
    "- 'amount': an amount of money\n",
    "- 'tax_percentage': the percentage of taxes to apply\n",
    "and returns the amount without taxes.\n",
    "\n",
    "For instance,\n",
    "\n",
    "    remove_taxes(1000,26)\n",
    "\n",
    "returns 740.0 (i.e., 1000-26%)."
   ]
  },
  {
   "cell_type": "code",
   "execution_count": 5,
   "metadata": {},
   "outputs": [],
   "source": [
    "def remove_taxes(amount, tax_percentage):\n",
    "    return amount * (1-(tax_percentage/100))"
   ]
  },
  {
   "cell_type": "code",
   "execution_count": 58,
   "metadata": {},
   "outputs": [
    {
     "data": {
      "text/plain": [
       "740.0"
      ]
     },
     "execution_count": 58,
     "metadata": {},
     "output_type": "execute_result"
    }
   ],
   "source": [
    "remove_taxes(1000,26)"
   ]
  },
  {
   "cell_type": "markdown",
   "metadata": {},
   "source": [
    "## Exercise 5: Include taxes in the investment\n",
    "\n",
    "Define a function 'invest3' that works as 'invest2', but also removes taxes from the profit. The percentage of taxes must be given in input, with a default value of 26. **Notice**: taxes are applied only if the profit is positive! \n",
    "\n",
    "For instance,\n",
    "\n",
    "    invest3(1000,1,5)\n",
    "\n",
    "returns the following\n",
    "\n",
    "> You start with 1000  \n",
    "> In the year 1 you have earned 10.0; you now have 1010.0  \n",
    "> In the year 2 you have earned 10.1; you now have 1020.1  \n",
    "> In the year 3 you have earned 10.2; you now have 1030.3  \n",
    "> In the year 4 you have earned 10.3; you now have 1040.6  \n",
    "> In the year 5 you have earned 10.41; you now have 1051.01  \n",
    "> Your gross profit is 51.01  \n",
    "> After taxes, your net profit is 37.75, so you end up with a total of 1037.75"
   ]
  },
  {
   "cell_type": "code",
   "execution_count": 7,
   "metadata": {},
   "outputs": [],
   "source": [
    "def invest3(capital, yearly_interest_as_percentage, number_of_years, tax_percentage=26):\n",
    "    initialInvestment = capital\n",
    "    \n",
    "    print(f\"You start with {capital}\")\n",
    "    for i in range(number_of_years):\n",
    "        interests = calculate_interests(capital,yearly_interest_as_percentage)\n",
    "        capital = capital + interests\n",
    "        print(f\"In the year {i+1} you have earned {round(interests,2)}; you now have {round(capital,2)}\")\n",
    "    \n",
    "    profit = capital - initialInvestment\n",
    "\n",
    "    if profit>0:\n",
    "        print(f\"Your gross profit is {round(profit,2)}\")\n",
    "        profit = remove_taxes(profit,tax_percentage)\n",
    "    \n",
    "    print(f\"After taxes, your net profit is {round(profit,2)}, so you end up with a total of {round(initialInvestment+profit,2)}\")\n",
    "    return"
   ]
  },
  {
   "cell_type": "code",
   "execution_count": 8,
   "metadata": {},
   "outputs": [
    {
     "name": "stdout",
     "output_type": "stream",
     "text": [
      "You start with 1000\n",
      "In the year 1 you have earned -10.0; you now have 990.0\n",
      "In the year 2 you have earned -9.9; you now have 980.1\n",
      "In the year 3 you have earned -9.8; you now have 970.3\n",
      "In the year 4 you have earned -9.7; you now have 960.6\n",
      "In the year 5 you have earned -9.61; you now have 950.99\n",
      "After taxes, your net profit is -49.01, so you end up with a total of 950.99\n"
     ]
    }
   ],
   "source": [
    "invest3(1000,-1,5)"
   ]
  },
  {
   "cell_type": "markdown",
   "metadata": {},
   "source": [
    "## Exercise 6: Include costs in the investment\n",
    "\n",
    "Usually, investments have costs, that must be considered every year. The percentage of costs must be given in input, with a default value of 2. **Notice**: every year, costs are calculated based on the value of capital+interests in such year.\n",
    "\n",
    "Define a function 'invest4' that works like 'invest3' but also includes the costs. For instance,\n",
    "\n",
    "    invest4(1000,1,5)\n",
    "\n",
    "returns the following\n",
    "\n",
    "> You start with 1000  \n",
    "> In the year 1 you have earned 10.0 and paid 5.05; you now have 1004.95  \n",
    "> In the year 2 you have earned 10.05 and paid 5.07; you now have 1009.92  \n",
    "> In the year 3 you have earned 10.1 and paid 5.1; you now have 1014.92  \n",
    "> In the year 4 you have earned 10.15 and paid 5.13; you now have 1019.95  \n",
    "> In the year 5 you have earned 10.2 and paid 5.15; you now have 1025.0  \n",
    "> Your gross profit is 25.0  \n",
    "> After taxes, your net profit is 18.5, so you end up with a total of 1018.5  "
   ]
  },
  {
   "cell_type": "code",
   "execution_count": 9,
   "metadata": {},
   "outputs": [],
   "source": [
    "def invest4(capital, yearly_interest_as_percentage, number_of_years, tax_percentage=26, yearly_cost_as_percentage=2):\n",
    "    initialInvestment = capital\n",
    "    \n",
    "    print(f\"You start with {capital}\")\n",
    "    for i in range(number_of_years):\n",
    "        interests = calculate_interests(capital,yearly_interest_as_percentage)\n",
    "        # costs = calculate_interests(capital+interests,yearly_cost_as_percentage)\n",
    "        costs = (capital+interests) * yearly_cost_as_percentage/100\n",
    "        capital = capital + interests - costs\n",
    "        print(f\"In the year {i+1} you have earned {round(interests,2)} and paid {round(costs,2)}; you now have {round(capital,2)}\")\n",
    "    \n",
    "    profit = capital - initialInvestment\n",
    "\n",
    "    if profit>0:\n",
    "        print(f\"Your gross profit is {round(profit,2)}\")\n",
    "        profit = remove_taxes(profit,tax_percentage)\n",
    "    \n",
    "    print(f\"After taxes, your net profit is {round(profit,2)}, so you end up with a total of {round(initialInvestment+profit,2)}\")\n",
    "    return"
   ]
  },
  {
   "cell_type": "code",
   "execution_count": 10,
   "metadata": {},
   "outputs": [
    {
     "name": "stdout",
     "output_type": "stream",
     "text": [
      "You start with 1000\n",
      "In the year 1 you have earned 10.0 and paid 5.05; you now have 1004.95\n",
      "In the year 2 you have earned 10.05 and paid 5.07; you now have 1009.92\n",
      "In the year 3 you have earned 10.1 and paid 5.1; you now have 1014.92\n",
      "In the year 4 you have earned 10.15 and paid 5.13; you now have 1019.95\n",
      "In the year 5 you have earned 10.2 and paid 5.15; you now have 1025.0\n",
      "Your gross profit is 25.0\n",
      "After taxes, your net profit is 18.5, so you end up with a total of 1018.5\n"
     ]
    }
   ],
   "source": [
    "invest4(1000,1,5,yearly_cost_as_percentage=0.5)"
   ]
  },
  {
   "cell_type": "markdown",
   "metadata": {},
   "source": [
    "## Exercise 7: Variable interests\n",
    "\n",
    "Interests change every year, and they are not always positive. Define a function 'invest5' that works like 'invest4', but where:\n",
    "- the parameter 'yearly_interest_as_percentage' is replaced with 'yearly_interests_as_percentages' as a list of interests\n",
    "- the parameter 'number_of_years' is not needed anymore (it is implict in the length of 'yearly_interests_as_percentages')\n",
    "\n",
    "For instance,\n",
    "\n",
    "    invest5(1000,[1,-2,3,-4,5],yearly_cost_as_percentage=0.5)\n",
    "\n",
    "returns the following\n",
    "\n",
    "> You start with 1000\n",
    "> In the year 1 you have earned 10.0 and paid 5.05; you now have 1004.95  \n",
    "> In the year 2 you have earned -20.1 and paid 4.92; you now have 979.93  \n",
    "> In the year 3 you have earned 29.4 and paid 5.05; you now have 1004.28  \n",
    "> In the year 4 you have earned -40.17 and paid 4.82; you now have 959.29  \n",
    "> In the year 5 you have earned 47.96 and paid 5.04; you now have 1002.21  \n",
    "> Your gross profit is 2.21  \n",
    "> After taxes, your net profit is 1.64, so you end up with a total of 1001.64"
   ]
  },
  {
   "cell_type": "code",
   "execution_count": 11,
   "metadata": {},
   "outputs": [],
   "source": [
    "def invest5(capital, yearly_interests_as_percentages, tax_percentage=26, yearly_cost_as_percentage=2):\n",
    "    initialInvestment = capital\n",
    "    \n",
    "    print(f\"You start with {capital}\")\n",
    "    for year in range(len(yearly_interests_as_percentages)):\n",
    "        interests = calculate_interests(capital,yearly_interests_as_percentages[year])\n",
    "        costs = calculate_interests(capital+interests,yearly_cost_as_percentage)\n",
    "        capital = capital + interests - costs\n",
    "        print(f\"In the year {year+1} you have earned {round(interests,2)} and paid {round(costs,2)}; you now have {round(capital,2)}\")\n",
    "    \n",
    "    profit = capital - initialInvestment\n",
    "\n",
    "    if profit>0:\n",
    "        print(f\"Your gross profit is {round(profit,2)}\")\n",
    "        profit = remove_taxes(profit,tax_percentage)\n",
    "    \n",
    "    print(f\"After taxes, your net profit is {round(profit,2)}, so you end up with a total of {round(initialInvestment+profit,2)}\")\n",
    "    return"
   ]
  },
  {
   "cell_type": "code",
   "execution_count": 16,
   "metadata": {},
   "outputs": [
    {
     "name": "stdout",
     "output_type": "stream",
     "text": [
      "You start with 1000\n",
      "In the year 1 you have earned 100.0 and paid 5.5; you now have 1094.5\n",
      "In the year 2 you have earned 87.56 and paid 5.91; you now have 1176.15\n",
      "In the year 3 you have earned 176.42 and paid 6.76; you now have 1345.81\n",
      "In the year 4 you have earned 269.16 and paid 8.07; you now have 1606.9\n",
      "In the year 5 you have earned -160.69 and paid 7.23; you now have 1438.98\n",
      "In the year 6 you have earned -215.85 and paid 6.12; you now have 1217.01\n",
      "In the year 7 you have earned 0.0 and paid 6.09; you now have 1210.93\n",
      "Your gross profit is 210.93\n",
      "After taxes, your net profit is 156.09, so you end up with a total of 1156.09\n",
      "You start with 1000\n",
      "In the year 1 you have earned 100.0 and paid 22.0; you now have 1078.0\n",
      "In the year 2 you have earned 86.24 and paid 23.28; you now have 1140.96\n",
      "In the year 3 you have earned 171.14 and paid 26.24; you now have 1285.86\n",
      "In the year 4 you have earned 257.17 and paid 30.86; you now have 1512.17\n",
      "In the year 5 you have earned -151.22 and paid 27.22; you now have 1333.73\n",
      "In the year 6 you have earned -200.06 and paid 22.67; you now have 1111.0\n",
      "In the year 7 you have earned 0.0 and paid 22.22; you now have 1088.78\n",
      "Your gross profit is 88.78\n",
      "After taxes, your net profit is 65.7, so you end up with a total of 1065.7\n"
     ]
    }
   ],
   "source": [
    "# invest5(1000,[-10,-15,0,10,8,15,20],yearly_cost_as_percentage=0.5)\n",
    "invest5(1000,[10,8,15,20,-10,-15,0],yearly_cost_as_percentage=0.5)\n",
    "invest5(1000,[10,8,15,20,-10,-15,0],yearly_cost_as_percentage=2)"
   ]
  },
  {
   "cell_type": "markdown",
   "metadata": {},
   "source": [
    "## Exercise 8: Make it a dict\n",
    "\n",
    "Instead of just printing data, put everything into a dictionary structured as follows.\n",
    "\n",
    "    {\n",
    "        initialInvestment: 1000\n",
    "        yearlyInvestments: [\n",
    "            {initialCapital: 1000, year: 1, interest_perc: 1, interests: 10.0, cost: 5.05, newCapital: 1004.95}\n",
    "            ...    \n",
    "        ]\n",
    "        grossProfit: 2.21\n",
    "        netProfit: 1.64\n",
    "        finalAmount: 1001.64\n",
    "    }"
   ]
  },
  {
   "cell_type": "code",
   "execution_count": null,
   "metadata": {},
   "outputs": [],
   "source": [
    "## Solution to-be-published!"
   ]
  },
  {
   "cell_type": "markdown",
   "metadata": {},
   "source": [
    "## Exercise 9: Variable capital\n",
    "\n",
    "Instead of having just an initialCapital, give in input a list containg the amount of money you add every year. For instance, with:\n",
    "\n",
    "    invest6([1000,100,100,100,100],[1,-2,3,-4,5],yearly_cost_as_percentage=0.5)\n",
    "\n",
    "you start with 1000 the first year and 100 every subsequent year."
   ]
  },
  {
   "cell_type": "code",
   "execution_count": null,
   "metadata": {},
   "outputs": [],
   "source": [
    "## Solution to-be-published!"
   ]
  },
  {
   "cell_type": "markdown",
   "metadata": {},
   "source": [
    "## Exercise 10: Portfolio\n",
    "\n",
    "Let's simulate the case where you have a portfolio of multiple investments, each with its own interest rates and costs.\n",
    "\n",
    "Define your portfolio as a list of dictionaries, like this:\n",
    "\n",
    "    [\n",
    "        {\n",
    "            capital: [1000,100,100,100,100]\n",
    "            interests: [1,-2,3,-4,5]\n",
    "            yearly_costs: 0.05\n",
    "        }\n",
    "        {\n",
    "            ...\n",
    "        }\n",
    "    ]\n",
    "\n",
    "and calculate your expected profits."
   ]
  },
  {
   "cell_type": "code",
   "execution_count": null,
   "metadata": {},
   "outputs": [],
   "source": [
    "## Solution to-be-published!"
   ]
  },
  {
   "cell_type": "markdown",
   "metadata": {},
   "source": [
    "## Exercise 11: Millionaire\n",
    "\n",
    "Assume that the market increases every year by 5% and that, every year, you are able to add X euros to your investment. How much does X have to be so that you reach 1 million in less than 30 years? Find it out without trying manually different values of X."
   ]
  },
  {
   "cell_type": "code",
   "execution_count": null,
   "metadata": {},
   "outputs": [],
   "source": [
    "## Solution to-be-published!"
   ]
  }
 ],
 "metadata": {
  "kernelspec": {
   "display_name": "Python 3",
   "language": "python",
   "name": "python3"
  },
  "language_info": {
   "codemirror_mode": {
    "name": "ipython",
    "version": 3
   },
   "file_extension": ".py",
   "mimetype": "text/x-python",
   "name": "python",
   "nbconvert_exporter": "python",
   "pygments_lexer": "ipython3",
   "version": "3.12.4"
  }
 },
 "nbformat": 4,
 "nbformat_minor": 2
}
