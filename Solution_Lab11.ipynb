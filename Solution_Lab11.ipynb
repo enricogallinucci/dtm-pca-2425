{
 "cells": [
  {
   "cell_type": "markdown",
   "id": "f5d6bef9",
   "metadata": {
    "deletable": true,
    "editable": true
   },
   "source": [
    "# Lab 11: Old exams\n",
    "\n",
    "Welcome to the last lab of the course. This lab proposes exercises of old exams in preparation for the next ones."
   ]
  },
  {
   "cell_type": "markdown",
   "id": "c4861902-d8d2-490a-acc6-79a2f97d7a5e",
   "metadata": {},
   "source": [
    "## January 18, 2022\n",
    "\n",
    "### Exercise 3\n",
    "\n",
    "Write a Python function called ```calculate(list1, list2)``` that takes two lists of integer numbers as parameters. You can assume the two lists contain the same number of elements. The function must return a list of tuples ```(n1, n2)``` with the same length of the input lists, where:\n",
    "- n1 is the sum of the corresponding numbers in the lists,\n",
    "- n2 is the product of the corresponding numbers in the lists.\n",
    "\n",
    "For example, ```calculate([2, 1, 3], [-3, 2, 5])``` must return ```[(-1, -6), (3, 2), (8, 15)]```\n",
    "\n",
    "*Hint: see Lab06, Exercise 5*"
   ]
  },
  {
   "cell_type": "code",
   "execution_count": 1,
   "id": "f75502ba-523d-42a1-aefa-7c183eb506fa",
   "metadata": {
    "tags": []
   },
   "outputs": [],
   "source": [
    "# A solution using zip and list comprehension\n",
    "def calculate(list1, list2):\n",
    "    return [(x1+x2, x1*x2) for x1, x2 in zip(list1, list2)]"
   ]
  },
  {
   "cell_type": "code",
   "execution_count": 3,
   "id": "8a30697f-d92c-41d8-b149-00f9beeb99db",
   "metadata": {
    "tags": []
   },
   "outputs": [],
   "source": [
    "# A solution using a loop to add elements to the new list\n",
    "def calculate(list1, list2):\n",
    "    res = []\n",
    "    for i in range(len(list1)):\n",
    "        x1, x2 = list1[i], list2[i]\n",
    "        res.append((x1+x2, x1*x2))\n",
    "    return res\n"
   ]
  },
  {
   "cell_type": "code",
   "execution_count": null,
   "id": "94436549-dda9-4d0a-a328-0de51bea07be",
   "metadata": {
    "tags": []
   },
   "outputs": [],
   "source": [
    "calculate([2, 1, 3], [-3, 2, 5])"
   ]
  },
  {
   "cell_type": "markdown",
   "id": "7c9befd1-a631-4812-b3f6-e27c30b7d0bf",
   "metadata": {},
   "source": [
    "### Exercise 4\n",
    "\n",
    "Write a Python function called find(ls) that takes a list of strings ```ls``` as a parameter and returns the string that contains the greatest number of \"e\". If the list is empty, the function must return ```None```. \n",
    "\n",
    "For example, ```find(['January','April','July','September','November'])``` must return ```'September'```"
   ]
  },
  {
   "cell_type": "code",
   "execution_count": 5,
   "id": "14e4bea4-4e3d-44f5-bb67-9fe6ae5a0d13",
   "metadata": {
    "tags": []
   },
   "outputs": [],
   "source": [
    "# A solution using max with key parameter and count method\n",
    "def find(ls):\n",
    "    return max(ls, key = lambda x: x.count(\"e\")) if ls else None"
   ]
  },
  {
   "cell_type": "code",
   "execution_count": 7,
   "id": "bb5e746d-ff65-4bc5-b737-085ee81664f3",
   "metadata": {
    "tags": []
   },
   "outputs": [],
   "source": [
    "# A solution with two loops\n",
    "def find(ls):\n",
    "    max_s, max_count = None, -1\n",
    "    for s in ls:\n",
    "        count = 0\n",
    "        for c in s:\n",
    "            if c == \"e\":\n",
    "                count += 1\n",
    "        if count > max_count:\n",
    "            max_s, max_count = s, count\n",
    "    return max_s "
   ]
  },
  {
   "cell_type": "code",
   "execution_count": null,
   "id": "582b6135-a62e-4962-93ef-d7b0660aca9c",
   "metadata": {
    "tags": []
   },
   "outputs": [],
   "source": [
    "find(['January','April','July','September','November'])"
   ]
  },
  {
   "cell_type": "markdown",
   "id": "6b9186eb-6bd8-47e2-b5de-0265fa51155a",
   "metadata": {},
   "source": [
    "## January 18, 2023\n",
    "\n",
    "### Exercise 3\n",
    "\n",
    "Write a Python function ```fun(a, b)``` that takes two parameters. ```a``` and ```b``` are two lists with the same length: each list contains tuples of integers. The function must return a list of tuples, where each tuple contains only the numbers contained in both corresponding tuples of ```a``` and ```b```.\n",
    "\n",
    "For example, ```fun([(1,2,4), (3,6,7), (7,8,9)], [(1,3,5), (3,7,545), (1,2,3)])``` must return ```[(1,), (3,7), ()]```"
   ]
  },
  {
   "cell_type": "code",
   "execution_count": 9,
   "id": "c1ac7047-4326-4cd9-b084-0b8d687aa7bb",
   "metadata": {
    "tags": []
   },
   "outputs": [],
   "source": [
    "def fun(a, b):\n",
    "    r = []\n",
    "    for i in range(len(a)):\n",
    "        t = ()\n",
    "        for x in a[i]:\n",
    "            if x in b[i]:\n",
    "                t += (x,)\n",
    "        r += [t]\n",
    "    return r"
   ]
  },
  {
   "cell_type": "code",
   "execution_count": 11,
   "id": "68783df3-c67e-4cfe-a7d6-c1ebb9851199",
   "metadata": {
    "tags": []
   },
   "outputs": [],
   "source": [
    "def fun(a, b):\n",
    "    return [tuple(set(x) & set(y)) for x, y in zip(a, b)]"
   ]
  },
  {
   "cell_type": "code",
   "execution_count": null,
   "id": "ff62265f-8ef1-4eed-8c7d-f41cc29ae242",
   "metadata": {
    "tags": []
   },
   "outputs": [],
   "source": [
    "fun([(1,2,4), (3,6,7), (7,8,9)], [(1,3,5), (3,7,545), (1,2,3)])"
   ]
  },
  {
   "cell_type": "markdown",
   "id": "1e19076a-7586-4e57-9bc5-f5853dd7dc7f",
   "metadata": {},
   "source": [
    "### Exercise 4\n",
    "\n",
    "Write a Python function ```fun2(d)``` that takes a dictionary ```d``` mapping str:int and returns a tuple ```(k_min,k_max, v_sum)```, where: ```k_min``` is the key of the element with the smallest value in the dictionary, ```k_max``` is the key of the element with the largest value in the dictionary, ```v_sum``` is the sum of all the values in the dictionary.\n",
    "\n",
    "For example, ```fun2({\"A\": 3, \"O\": 99, \"C\": 4, \"D\": 7, \"K\": -3})``` must return ```('K', 'O', 110)```"
   ]
  },
  {
   "cell_type": "code",
   "execution_count": 13,
   "id": "5b0b7b6e-7a5e-45b3-88c0-cb258153a2b8",
   "metadata": {
    "tags": []
   },
   "outputs": [],
   "source": [
    "def fun2(d):\n",
    "    k_min, v_min = None, None\n",
    "    k_max, v_max = None, None\n",
    "    v_sum = 0\n",
    "    for k in d:\n",
    "        if not k_min or d[k] < v_min:\n",
    "            k_min, v_min = k, d[k]\n",
    "        if not k_max or d[k] > v_max:\n",
    "            k_max, v_max = k, d[k]\n",
    "        v_sum += d[k]\n",
    "    return k_min, k_max, v_sum"
   ]
  },
  {
   "cell_type": "code",
   "execution_count": 15,
   "id": "f6c4d106-190c-42af-b2a8-8086d248bcd8",
   "metadata": {
    "tags": []
   },
   "outputs": [],
   "source": [
    "def fun2(d):\n",
    "    k_min = min(d, key=lambda k: d[k])\n",
    "    k_max = max(d, key=lambda k: d[k])\n",
    "    v_sum = sum(d.values())\n",
    "    return k_min, k_max, v_sum"
   ]
  },
  {
   "cell_type": "code",
   "execution_count": null,
   "id": "9a5cf38f-9bb6-40ad-ba02-a962e66229ab",
   "metadata": {
    "tags": []
   },
   "outputs": [],
   "source": [
    "fun2({\"A\": 3, \"O\": 99, \"C\": 4, \"D\": 7, \"K\": -3})"
   ]
  },
  {
   "cell_type": "markdown",
   "id": "dd27d8b4-e06d-4db9-9e4d-a7b9c41f9997",
   "metadata": {},
   "source": [
    "## June 20, 2023\n",
    "\n",
    "### Exercise 3\n",
    "\n",
    "Write a Python function ```fun(a, b)``` that takes two parameters. ```a``` is a dictionary mapping str:int, ```b``` is a list of strings. \n",
    "The function must return a dictionary ```r``` mapping str:int and containing, for each key:value pair ```k: v``` in ```a```, ```b[v]``` if ```0 <= v < len(b)```, otherwise the string 'not found'.\n",
    "\n",
    "For example, ```fun({'a': 2, 'b': -1, 'c': 1}, ['x', 'y', 'z'])``` must return ```{'a': 'z', 'b': 'not found', 'c': 'y'}```"
   ]
  },
  {
   "cell_type": "code",
   "execution_count": 17,
   "id": "3edd7242-e494-473d-a431-f290180aed64",
   "metadata": {
    "tags": []
   },
   "outputs": [],
   "source": [
    "def fun(a, b):\n",
    "    return {k:b[v] if 0<=v<len(b) else \"not found\" for k, v in a.items()}"
   ]
  },
  {
   "cell_type": "code",
   "execution_count": null,
   "id": "f779aed5-8915-44c2-a7d5-e8ab5faa4779",
   "metadata": {
    "tags": []
   },
   "outputs": [],
   "source": [
    "fun({'a': 2, 'b': -1, 'c': 1}, ['x', 'y', 'z'])"
   ]
  },
  {
   "cell_type": "markdown",
   "id": "09215f2c-b916-409d-b107-7163c97d3e3f",
   "metadata": {},
   "source": [
    "### Exercise 4\n",
    "\n",
    "Write a Python function ```fun2(d)``` that takes a dictionary ```d``` mapping str:str and returns a tuple ```((k_min, v_min), (k_max, v_max))```, where: ```(k_min, v_min)``` is the key:value pair whose value is the shortest one among all dictionary values, ```(k_max, v_max)``` is the key_value pair whose value is the longest one.\n",
    "\n",
    "For example, ```fun2({\"B\": \"Blue\", \"Y\": \"Yellow\", \"R\": \"Red\", \"G\": \"Green\"})``` must return ```((\"R\",\"Red\"),(\"Y\",\"Yellow\"))```"
   ]
  },
  {
   "cell_type": "code",
   "execution_count": 19,
   "id": "4cc57c94-e32f-4490-9277-04cb0ed3b3b7",
   "metadata": {
    "tags": []
   },
   "outputs": [],
   "source": [
    "def fun2(d):\n",
    "    return (min(d.items(), key=lambda x:len(x[1])), max(d.items(), key=lambda x:len(x[1])))"
   ]
  },
  {
   "cell_type": "code",
   "execution_count": null,
   "id": "d463f807-8c56-4977-97a8-98f9d0c62ee7",
   "metadata": {
    "tags": []
   },
   "outputs": [],
   "source": [
    "fun2({\"B\": \"Blue\", \"Y\": \"Yellow\", \"R\": \"Red\", \"G\": \"Green\"})"
   ]
  }
 ],
 "metadata": {
  "kernelspec": {
   "display_name": "Python 3 (ipykernel)",
   "language": "python",
   "name": "python3"
  },
  "language_info": {
   "codemirror_mode": {
    "name": "ipython",
    "version": 3
   },
   "file_extension": ".py",
   "mimetype": "text/x-python",
   "name": "python",
   "nbconvert_exporter": "python",
   "pygments_lexer": "ipython3",
   "version": "3.11.4"
  },
  "toc-autonumbering": false,
  "toc-showcode": true,
  "toc-showmarkdowntxt": true,
  "toc-showtags": true
 },
 "nbformat": 4,
 "nbformat_minor": 5
}
