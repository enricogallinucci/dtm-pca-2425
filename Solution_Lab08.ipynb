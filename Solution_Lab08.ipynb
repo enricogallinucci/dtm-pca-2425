{
 "cells": [
  {
   "cell_type": "markdown",
   "metadata": {},
   "source": [
    "## Lab 08: Expenses and Budgeting\n",
    "\n",
    "Welcome to the eigth lab of the course; we will do exercises on data structures and comprehension syntax simulating analysis of expenses."
   ]
  },
  {
   "cell_type": "markdown",
   "metadata": {},
   "source": [
    "## Exercise 1: Getting started\n",
    "\n",
    "Use comprehension syntax on `list_expenses` to\n",
    "- create a list where only the amount is kept\n",
    "- create a list where only expenses made to Uber are kept\n",
    "- create the set of dates in dd/mm/yyyy format (hint: split the date on '-' and concatenate the different pieces)\n",
    "- create a list of tuples with two elements: the price (rounded to no decimals) and the length of the string describing the recipient (second element of the tuple); this, only if the tuple in `list_expenses` contains the word \"util\" in the category of the expense\n",
    "- create the set of categories for which there is at least an expense of 60 euros"
   ]
  },
  {
   "cell_type": "code",
   "execution_count": null,
   "metadata": {},
   "outputs": [],
   "source": [
    "list_expenses = [\n",
    "    ('2024-10-01','Starbucks',5.75,'Food & Drink'),\n",
    "    ('2024-10-05','Amazon',35.50,'Shopping'),\n",
    "    ('2024-10-08','Local Restaurant',28.75,'Food & Drink'),\n",
    "    ('2024-10-08','Uber',12.35,'Transportation'),\n",
    "    ('2024-10-08','Electric Company',102.45,'Utilities'),\n",
    "    ('2024-10-13','Walmart',68.20,'Groceries'),\n",
    "    ('2024-10-13','Cinema',13.99,'Entertainment'),\n",
    "    ('2024-10-13','Starbucks',4.50,'Food & Drink'),\n",
    "    ('2024-10-22','Walmart',78.90,'Groceries'),\n",
    "    ('2024-10-22','Water Utility',60.25,'Utilities'),\n",
    "    ('2024-10-25','Amazon',25.99,'Shopping'),\n",
    "    ('2024-10-25','Uber',10.75,'Transportation')\n",
    "]"
   ]
  },
  {
   "cell_type": "code",
   "execution_count": null,
   "metadata": {},
   "outputs": [],
   "source": [
    "[ t[2] for t in list_expenses ]\n",
    "[ t for t in list_expenses if t[1]=='Uber']\n",
    "{ t[0].split('-')[2]+\"/\"+t[0].split('-')[1]+t[0].split('-')[0] for t in list_expenses}\n",
    "# alternative: { \"/\".join(reversed(item[0].split('-'))) for item in list_expenses }\n",
    "# alternative: { \"/\".join(item[0].split('-')[::-1]) for item in list_expenses }\n",
    "[ (round(t[2]), len(t[1])) for t in list_expenses if \"util\" in t[1].lower() ]\n",
    "{ t[3] for t in list_expenses if t[2]>=60}"
   ]
  },
  {
   "cell_type": "markdown",
   "metadata": {},
   "source": [
    "## Exercise 2: Merging expenses\n",
    "\n",
    "If you have multiple bank accounts, each of themm will give you their own list of expenses, using different structures. The goal here is to merge them into a single, uniform list."
   ]
  },
  {
   "cell_type": "markdown",
   "metadata": {},
   "source": [
    "### 2.1 Mapping functions\n",
    "\n",
    "Assume the existence of a mapping dictionary (see below) to be used to replace keys and values in the list of expenses. Each dictionary item is structured as \n",
    "    \n",
    "    mapping['correct_key'] = (set_of_wrong_keys_to_be_replaced_with_correct_key, mapping_function_to_be_applied_to_values_with_wrong_keys)\n",
    "\n",
    "Complete the mapping dictionary by:\n",
    "- Creating a function that takes only the date part in a string that contains datetime field\n",
    "    - E.g., `date_polish(\"2024-01-01 08:15\")` must return '2024-01-01'\n",
    "- Adding a lambda functiont to the 'amount' key that takes in input a number and returns its value rounded to 2 decimals"
   ]
  },
  {
   "cell_type": "code",
   "execution_count": 1,
   "metadata": {},
   "outputs": [],
   "source": [
    "def date_polish(date):\n",
    "    return date[:10]"
   ]
  },
  {
   "cell_type": "code",
   "execution_count": null,
   "metadata": {},
   "outputs": [],
   "source": [
    "date_polish(\"2024-01-01 08:15\")"
   ]
  },
  {
   "cell_type": "code",
   "execution_count": 2,
   "metadata": {},
   "outputs": [],
   "source": [
    "mapping = dict()\n",
    "mapping['date'] = ({'datetime'}, date_polish)\n",
    "mapping['amount'] = ({'expense','value'}, lambda v: round(v,2))"
   ]
  },
  {
   "cell_type": "markdown",
   "metadata": {},
   "source": [
    "### 2.2 Count the number of items that need to be resolved\n",
    "\n",
    "- Create a set as the union of the values in the mapping dictionary\n",
    "- Iterate on the lists to verify if an item contains one of the keys that should be replaced"
   ]
  },
  {
   "cell_type": "code",
   "execution_count": 3,
   "metadata": {},
   "outputs": [],
   "source": [
    "lists = [[\n",
    "    {'date': '2024-10-12', 'recipient': 'Starbucks', 'description': 'Coffee', 'amount': 495.37, 'category': 'Food & Drink'},\n",
    "    {'date': '2024-10-15', 'recipient': 'Starbucks', 'description': 'Coffee', 'amount': 484.96, 'category': 'Food & Drink'},\n",
    "    {'date': '2024-10-05', 'recipient': 'Starbucks', 'description': 'Coffee', 'value': 338.41003, 'category': 'Food & Drink'}\n",
    "],[\n",
    "    {'datetime': '2024-10-17 09:00', 'recipient': 'Uber', 'description': 'Fuel', 'amount': 200.44545, 'category': 'Transportation'},\n",
    "    {'datetime': '2024-10-10 10:30', 'recipient': 'Apple Store', 'description': 'Gadget purchase', 'amount': 69.46769, 'category': 'Electronics'},\n",
    "    {'datetime': '2024-10-21 11:45', 'recipient': 'Amazon', 'description': 'Online purchase', 'expense': 213.89211, 'category': 'Shopping'}\n",
    "]]"
   ]
  },
  {
   "cell_type": "code",
   "execution_count": 8,
   "metadata": {},
   "outputs": [
    {
     "data": {
      "text/plain": [
       "{'datetime', 'expense', 'value'}"
      ]
     },
     "execution_count": 8,
     "metadata": {},
     "output_type": "execute_result"
    }
   ],
   "source": [
    "combined_set = set()\n",
    "for k in mapping.keys():\n",
    "    combined_set = combined_set | mapping[k][0]\n",
    "    \n",
    "combined_set"
   ]
  },
  {
   "cell_type": "code",
   "execution_count": 10,
   "metadata": {},
   "outputs": [
    {
     "name": "stdout",
     "output_type": "stream",
     "text": [
      "I found here that item {'date': '2024-10-05', 'recipient': 'Starbucks', 'description': 'Coffee', 'value': 338.41003, 'category': 'Food & Drink'} contains value\n",
      "I found here that item {'datetime': '2024-10-17 09:00', 'recipient': 'Uber', 'description': 'Fuel', 'amount': 200.44545, 'category': 'Transportation'} contains datetime\n",
      "I found here that item {'datetime': '2024-10-10 10:30', 'recipient': 'Apple Store', 'description': 'Gadget purchase', 'amount': 69.46769, 'category': 'Electronics'} contains datetime\n",
      "I found here that item {'datetime': '2024-10-21 11:45', 'recipient': 'Amazon', 'description': 'Online purchase', 'expense': 213.89211, 'category': 'Shopping'} contains expense\n",
      "I found here that item {'datetime': '2024-10-21 11:45', 'recipient': 'Amazon', 'description': 'Online purchase', 'expense': 213.89211, 'category': 'Shopping'} contains datetime\n"
     ]
    },
    {
     "data": {
      "text/plain": [
       "4"
      ]
     },
     "execution_count": 10,
     "metadata": {},
     "output_type": "execute_result"
    }
   ],
   "source": [
    "cnt = 0\n",
    "for list in lists:\n",
    "    for item in list:\n",
    "        wrong_label_found = False\n",
    "        for k in combined_set:\n",
    "            if k in item.keys():\n",
    "                wrong_label_found = True\n",
    "                print(f'I found here that item {item} contains {k}')\n",
    "        if wrong_label_found:\n",
    "            # The counter is increased only once per item\n",
    "            cnt += 1\n",
    "cnt"
   ]
  },
  {
   "cell_type": "code",
   "execution_count": 12,
   "metadata": {},
   "outputs": [
    {
     "name": "stdout",
     "output_type": "stream",
     "text": [
      "I found here that item {'date': '2024-10-05', 'recipient': 'Starbucks', 'description': 'Coffee', 'value': 338.41003, 'category': 'Food & Drink'} contains something that labels {'value'} must be changed\n",
      "I found here that item {'datetime': '2024-10-17 09:00', 'recipient': 'Uber', 'description': 'Fuel', 'amount': 200.44545, 'category': 'Transportation'} contains something that labels {'datetime'} must be changed\n",
      "I found here that item {'datetime': '2024-10-10 10:30', 'recipient': 'Apple Store', 'description': 'Gadget purchase', 'amount': 69.46769, 'category': 'Electronics'} contains something that labels {'datetime'} must be changed\n",
      "I found here that item {'datetime': '2024-10-21 11:45', 'recipient': 'Amazon', 'description': 'Online purchase', 'expense': 213.89211, 'category': 'Shopping'} contains something that labels {'expense', 'datetime'} must be changed\n"
     ]
    },
    {
     "data": {
      "text/plain": [
       "4"
      ]
     },
     "execution_count": 12,
     "metadata": {},
     "output_type": "execute_result"
    }
   ],
   "source": [
    "# Alternative, more compact version\n",
    "cnt = 0\n",
    "for list in lists:\n",
    "    for item in list:\n",
    "        if len(item.keys() & combined_set) > 0:\n",
    "            cnt += 1\n",
    "            print(f'I found here that item {item} contains something that labels {item.keys() & combined_set} must be changed')\n",
    "cnt"
   ]
  },
  {
   "cell_type": "markdown",
   "metadata": {},
   "source": [
    "### 2.3 Make consistent items\n",
    "\n",
    "- Unify the lists: instead of a list of lists of items, make it a single list of items\n",
    "- Iterate on the list to replace wrong keys with correct keys; use `item.pop(key)` to remove a key"
   ]
  },
  {
   "cell_type": "code",
   "execution_count": 13,
   "metadata": {},
   "outputs": [],
   "source": [
    "new_list = []\n",
    "for l in lists:\n",
    "    new_list.extend(l)\n",
    "    # alternative: new_list += l"
   ]
  },
  {
   "cell_type": "code",
   "execution_count": 16,
   "metadata": {},
   "outputs": [
    {
     "name": "stdout",
     "output_type": "stream",
     "text": [
      "[{'date': '2024-10-12', 'recipient': 'Starbucks', 'description': 'Coffee', 'amount': 495.37, 'category': 'Food & Drink'}, {'date': '2024-10-15', 'recipient': 'Starbucks', 'description': 'Coffee', 'amount': 484.96, 'category': 'Food & Drink'}, {'date': '2024-10-05', 'recipient': 'Starbucks', 'description': 'Coffee', 'category': 'Food & Drink', 'amount': 338.41}, {'recipient': 'Uber', 'description': 'Fuel', 'amount': 200.44545, 'category': 'Transportation', 'date': '2024-10-17'}, {'recipient': 'Apple Store', 'description': 'Gadget purchase', 'amount': 69.46769, 'category': 'Electronics', 'date': '2024-10-10'}, {'recipient': 'Amazon', 'description': 'Online purchase', 'category': 'Shopping', 'date': '2024-10-21', 'amount': 213.89}]\n"
     ]
    }
   ],
   "source": [
    "# First solution: for every item, iterate on the dictionary to check whether the wrong keys exist in the item\n",
    "for item in new_list:\n",
    "    for correct_key in mapping.keys():\n",
    "        for wrong_key in mapping[correct_key][0]:\n",
    "            if wrong_key in item:\n",
    "                item[correct_key] = mapping[correct_key][1](item[wrong_key])\n",
    "                item.pop(wrong_key)\n",
    "\n",
    "new_list"
   ]
  },
  {
   "cell_type": "code",
   "execution_count": 18,
   "metadata": {},
   "outputs": [
    {
     "data": {
      "text/plain": [
       "[{'date': '2024-10-12',\n",
       "  'recipient': 'Starbucks',\n",
       "  'description': 'Coffee',\n",
       "  'amount': 495.37,\n",
       "  'category': 'Food & Drink'},\n",
       " {'date': '2024-10-15',\n",
       "  'recipient': 'Starbucks',\n",
       "  'description': 'Coffee',\n",
       "  'amount': 484.96,\n",
       "  'category': 'Food & Drink'},\n",
       " {'date': '2024-10-05',\n",
       "  'recipient': 'Starbucks',\n",
       "  'description': 'Coffee',\n",
       "  'category': 'Food & Drink',\n",
       "  'amount': 338.41},\n",
       " {'recipient': 'Uber',\n",
       "  'description': 'Fuel',\n",
       "  'amount': 200.44545,\n",
       "  'category': 'Transportation',\n",
       "  'date': '2024-10-17'},\n",
       " {'recipient': 'Apple Store',\n",
       "  'description': 'Gadget purchase',\n",
       "  'amount': 69.46769,\n",
       "  'category': 'Electronics',\n",
       "  'date': '2024-10-10'},\n",
       " {'recipient': 'Amazon',\n",
       "  'description': 'Online purchase',\n",
       "  'category': 'Shopping',\n",
       "  'date': '2024-10-21',\n",
       "  'amount': 213.89}]"
      ]
     },
     "execution_count": 18,
     "metadata": {},
     "output_type": "execute_result"
    }
   ],
   "source": [
    "# Second solution: for every item, iterate on its keys to check whether they are indicated in the mapping as wrong keys\n",
    "\n",
    "# This solution may give errors on the third line\n",
    "# In general, iterating over something (in this case, the mapping.keys()) that is being updated (in this case, by adding new keys) is not good practice\n",
    "# Since sets do not have a fixed order, the error may or may not show up - you will see this by restarting the kernel multiple times\n",
    "# for item in new_list:\n",
    "#     for orig_key in item.keys():\n",
    "#         for correct_key in mapping.keys():\n",
    "#             if orig_key in mapping[correct_key][0]:\n",
    "#                 item[correct_key] = mapping[correct_key][1](item[orig_key])\n",
    "    \n",
    "# To avoid the error above, new key-value pairs are first put in a temporary new_item and then added to the original item\n",
    "for item in new_list:\n",
    "    new_item = {}\n",
    "    for orig_key in item.keys():\n",
    "        for correct_key in mapping.keys():\n",
    "            if orig_key in mapping[correct_key][0]:\n",
    "                new_item[correct_key] = mapping[correct_key][1](item[orig_key])\n",
    "    \n",
    "    for new_key in new_item:\n",
    "        item[new_key] = new_item[new_key]\n",
    "        \n",
    "new_list"
   ]
  },
  {
   "cell_type": "markdown",
   "metadata": {},
   "source": [
    "## Exercise 3: Analyzing expenses\n",
    "\n",
    "Now that you have a single, uniform list of expenses, we can do some analysis"
   ]
  },
  {
   "cell_type": "code",
   "execution_count": 8,
   "metadata": {},
   "outputs": [],
   "source": [
    "list_expenses = [\n",
    "    ('2024-10-01','Starbucks',5.75,'Food & Drink'),\n",
    "    ('2024-10-01','Walmart',82.45,'Groceries'),\n",
    "    ('2024-10-01','Netflix',15.99,'Entertainment'),\n",
    "    ('2024-10-04','Shell Gas',45.60,'Transportation'),\n",
    "    ('2024-10-05','Apple Store',49.99,'Electronics'),\n",
    "    ('2024-10-05','Amazon',35.50,'Shopping'),\n",
    "    ('2024-10-08','Local Restaurant',28.75,'Food & Drink'),\n",
    "    ('2024-10-08','Uber',12.35,'Transportation'),\n",
    "    ('2024-10-08','Electric Company',102.45,'Utilities'),\n",
    "    ('2024-10-13','Walmart',68.20,'Groceries'),\n",
    "    ('2024-10-13','Cinema',13.99,'Entertainment'),\n",
    "    ('2024-10-13','Starbucks',4.50,'Food & Drink'),\n",
    "    ('2024-10-13','Walmart',90.67,'Groceries'),\n",
    "    ('2024-10-14','Local Restaurant',22.15,'Food & Drink'),\n",
    "    ('2024-10-15','Netflix',15.99,'Entertainment'),\n",
    "    ('2024-10-16','Target',58.90,'Shopping'),\n",
    "    ('2024-10-17','Shell Gas',52.10,'Transportation'),\n",
    "    ('2024-10-22','Apple Store',19.99,'Electronics'),\n",
    "    ('2024-10-22','Local Gym',40.00,'Health'),\n",
    "    ('2024-10-22','Starbucks',6.50,'Food & Drink'),\n",
    "    ('2024-10-22','Walmart',78.90,'Groceries'),\n",
    "    ('2024-10-22','Water Utility',60.25,'Utilities'),\n",
    "    ('2024-10-25','Amazon',25.99,'Shopping'),\n",
    "    ('2024-10-25','Uber',10.75,'Transportation'),\n",
    "    ('2024-10-25','Cinema',15.50,'Entertainment'),\n",
    "    ('2024-10-26','Local Restaurant',30.10,'Food & Drink'),\n",
    "    ('2024-10-27','Walmart',85.30,'Groceries'),\n",
    "    ('2024-10-28','Shell Gas',47.25,'Transportation'),\n",
    "    ('2024-10-30','Electric Company',101.85,'Utilities'),\n",
    "    ('2024-10-30','Starbucks',5.25,'Food & Drink')\n",
    "]\n",
    "\n",
    "category_acronyms = {\n",
    "    'Food & Drink': 'F&D',\n",
    "    'Groceries': 'GRO',\n",
    "    'Entertainment': 'ENT',\n",
    "    'Transportation': 'TRN',\n",
    "    'Electronics': 'ELE',\n",
    "    'Shopping': 'SHP',\n",
    "    'Utilities': 'UTL',\n",
    "    'Health': 'HLT'\n",
    "}"
   ]
  },
  {
   "cell_type": "markdown",
   "metadata": {},
   "source": [
    "### 3.1 Comprehension\n",
    "\n",
    "Use comprehension syntax to create a list of tuples where each tuples is composed by:\n",
    "- The day of the date\n",
    "- The description of the expense in reverse order,\n",
    "- The biggest multiple of ten that is lower than the expense (i.e., remove from the expense value the result of the \"modulo 10\" operation, then round to 0 decimals)\n",
    "- The acronym of the category"
   ]
  },
  {
   "cell_type": "code",
   "execution_count": 2,
   "metadata": {},
   "outputs": [
    {
     "data": {
      "text/plain": [
       "[('01', 'skcubratS', 0, 'F&D'),\n",
       " ('01', 'tramlaW', 80, 'GRO'),\n",
       " ('01', 'xilfteN', 10, 'ENT'),\n",
       " ('04', 'saG llehS', 40, 'TRN'),\n",
       " ('05', 'erotS elppA', 40, 'ELE'),\n",
       " ('05', 'nozamA', 30, 'SHP'),\n",
       " ('08', 'tnaruatseR lacoL', 20, 'F&D'),\n",
       " ('08', 'rebU', 10, 'TRN'),\n",
       " ('08', 'ynapmoC cirtcelE', 100, 'UTL'),\n",
       " ('13', 'tramlaW', 60, 'GRO'),\n",
       " ('13', 'ameniC', 10, 'ENT'),\n",
       " ('13', 'skcubratS', 0, 'F&D'),\n",
       " ('13', 'tramlaW', 90, 'GRO'),\n",
       " ('14', 'tnaruatseR lacoL', 20, 'F&D'),\n",
       " ('15', 'xilfteN', 10, 'ENT'),\n",
       " ('16', 'tegraT', 50, 'SHP'),\n",
       " ('17', 'saG llehS', 50, 'TRN'),\n",
       " ('22', 'erotS elppA', 10, 'ELE'),\n",
       " ('22', 'myG lacoL', 40, 'HLT'),\n",
       " ('22', 'skcubratS', 0, 'F&D'),\n",
       " ('22', 'tramlaW', 70, 'GRO'),\n",
       " ('22', 'ytilitU retaW', 60, 'UTL'),\n",
       " ('25', 'nozamA', 20, 'SHP'),\n",
       " ('25', 'rebU', 10, 'TRN'),\n",
       " ('25', 'ameniC', 10, 'ENT'),\n",
       " ('26', 'tnaruatseR lacoL', 30, 'F&D'),\n",
       " ('27', 'tramlaW', 80, 'GRO'),\n",
       " ('28', 'saG llehS', 40, 'TRN'),\n",
       " ('30', 'ynapmoC cirtcelE', 100, 'UTL'),\n",
       " ('30', 'skcubratS', 0, 'F&D')]"
      ]
     },
     "execution_count": 2,
     "metadata": {},
     "output_type": "execute_result"
    }
   ],
   "source": [
    "[ (t[0].split('-')[2], t[1][::-1], round(t[2]-t[2]%10), category_acronyms[t[3]]) for t in list_expenses ]"
   ]
  },
  {
   "cell_type": "markdown",
   "metadata": {},
   "source": [
    "### 3.2 Expenses by category\n",
    "\n",
    "Create a dictionary `expenses_by_category` where:\n",
    "- Keys are the categories\n",
    "- Values correspond to the total expenses of that category"
   ]
  },
  {
   "cell_type": "code",
   "execution_count": 3,
   "metadata": {},
   "outputs": [
    {
     "data": {
      "text/plain": [
       "{'Food & Drink': 103.0,\n",
       " 'Groceries': 405.52000000000004,\n",
       " 'Entertainment': 61.47,\n",
       " 'Transportation': 168.05,\n",
       " 'Electronics': 69.98,\n",
       " 'Shopping': 120.39,\n",
       " 'Utilities': 264.54999999999995,\n",
       " 'Health': 40.0}"
      ]
     },
     "execution_count": 3,
     "metadata": {},
     "output_type": "execute_result"
    }
   ],
   "source": [
    "expenses_by_category = dict()\n",
    "\n",
    "for ex in list_expenses:\n",
    "    cat = ex[3]\n",
    "    if cat in expenses_by_category:\n",
    "        expenses_by_category[cat] = expenses_by_category[cat] + ex[2]\n",
    "    else:\n",
    "        expenses_by_category[cat] = ex[2]\n",
    "\n",
    "expenses_by_category"
   ]
  },
  {
   "cell_type": "markdown",
   "metadata": {},
   "source": [
    "### 3.3 Percentage of expenses by category\n",
    "\n",
    "Create a dictionary where \n",
    "- Keys are the categories\n",
    "- Values are the ratio of total expenses of that category over the total expenses in the list\n",
    "\n",
    "Hint: compute the totals by category as in 3.2, then use dictionary comprehension to compute percentages"
   ]
  },
  {
   "cell_type": "code",
   "execution_count": 9,
   "metadata": {},
   "outputs": [
    {
     "data": {
      "text/plain": [
       "{'Food & Drink': '8.35%',\n",
       " 'Groceries': '32.89%',\n",
       " 'Entertainment': '4.99%',\n",
       " 'Transportation': '13.63%',\n",
       " 'Electronics': '5.68%',\n",
       " 'Shopping': '9.76%',\n",
       " 'Utilities': '21.46%',\n",
       " 'Health': '3.24%'}"
      ]
     },
     "execution_count": 9,
     "metadata": {},
     "output_type": "execute_result"
    }
   ],
   "source": [
    "expenses_by_category = dict()\n",
    "total = 0\n",
    "\n",
    "for ex in list_expenses:\n",
    "    cat = ex[3]\n",
    "    if cat in expenses_by_category:\n",
    "        expenses_by_category[cat] = expenses_by_category[cat] + ex[2]\n",
    "    else:\n",
    "        expenses_by_category[cat] = ex[2]\n",
    "    total += ex[2]\n",
    "\n",
    "{ k:str(round(v*100/total,2))+\"%\" for k,v in expenses_by_category.items()}"
   ]
  },
  {
   "cell_type": "markdown",
   "metadata": {},
   "source": [
    "### 3.4 Budgeting\n",
    "\n",
    "Assume you have a budget for each category, specified in a dictionary. Now, we want to create a new budget for the next month. Here are two different strategy.\n",
    "- Create a new budget, 'budget_v1', where the maximum expenditure for each category is adjusted based on the expenses of the previous month.\n",
    "    - If you had a budget of 100 and spent 110, the budget for next month will be 90\n",
    "    - If you had a budget of 100 and spent 90, the budget for next month will be 110\n",
    "- Create a new budget, 'budget_v1', where you adjust the maximum expenditure of a category only if you had overspent by 10 euroes or more.\n",
    "    - If you had a budget of 100 and spent 110, the budget for next month will be 90\n",
    "    - If you had a budget of 100 and spent 109 or less, the budget for next month will still be 100\n",
    "\n",
    "Hint: in both cases, compute the totals by category as in 3.2, then rely only on comprehension syntax"
   ]
  },
  {
   "cell_type": "code",
   "execution_count": 5,
   "metadata": {},
   "outputs": [],
   "source": [
    "budget = {\n",
    "    'Food & Drink': 100,\n",
    "    'Groceries': 500,\n",
    "    'Entertainment': 100,\n",
    "    'Transportation': 150,\n",
    "    'Electronics': 70,\n",
    "    'Shopping': 100,\n",
    "    'Utilities': 250,\n",
    "    'Health': 100\n",
    "}"
   ]
  },
  {
   "cell_type": "code",
   "execution_count": 6,
   "metadata": {},
   "outputs": [
    {
     "data": {
      "text/plain": [
       "{'Food & Drink': 97.0,\n",
       " 'Groceries': 594.48,\n",
       " 'Entertainment': 138.53,\n",
       " 'Transportation': 131.95,\n",
       " 'Electronics': 70.02,\n",
       " 'Shopping': 79.61,\n",
       " 'Utilities': 235.45,\n",
       " 'Health': 160.0}"
      ]
     },
     "execution_count": 6,
     "metadata": {},
     "output_type": "execute_result"
    }
   ],
   "source": [
    "expenses_by_category = dict()\n",
    "\n",
    "for ex in list_expenses:\n",
    "    cat = ex[3]\n",
    "    if cat in expenses_by_category:\n",
    "        expenses_by_category[cat] = expenses_by_category[cat] + ex[2]\n",
    "    else:\n",
    "        expenses_by_category[cat] = ex[2]\n",
    "\n",
    "budget_v1 = { cat:bud+round(bud-expenses_by_category[cat],2) for cat,bud in budget.items()}\n",
    "budget_v1"
   ]
  },
  {
   "cell_type": "code",
   "execution_count": 7,
   "metadata": {},
   "outputs": [
    {
     "data": {
      "text/plain": [
       "{'Food & Drink': 100,\n",
       " 'Groceries': 500,\n",
       " 'Entertainment': 100,\n",
       " 'Transportation': 131.95,\n",
       " 'Electronics': 70,\n",
       " 'Shopping': 79.61,\n",
       " 'Utilities': 235.45,\n",
       " 'Health': 100}"
      ]
     },
     "execution_count": 7,
     "metadata": {},
     "output_type": "execute_result"
    }
   ],
   "source": [
    "expenses_by_category = dict()\n",
    "\n",
    "for ex in list_expenses:\n",
    "    cat = ex[3]\n",
    "    if cat in expenses_by_category:\n",
    "        expenses_by_category[cat] = expenses_by_category[cat] + ex[2]\n",
    "    else:\n",
    "        expenses_by_category[cat] = ex[2]\n",
    "\n",
    "d = { cat:bud+round(bud-expenses_by_category[cat],2) for cat,bud in budget.items() if round(bud-expenses_by_category[cat],2)<=-10}\n",
    "{ cat: d.get(cat,bud) for cat,bud in budget.items() }"
   ]
  }
 ],
 "metadata": {
  "kernelspec": {
   "display_name": "Python 3",
   "language": "python",
   "name": "python3"
  },
  "language_info": {
   "codemirror_mode": {
    "name": "ipython",
    "version": 3
   },
   "file_extension": ".py",
   "mimetype": "text/x-python",
   "name": "python",
   "nbconvert_exporter": "python",
   "pygments_lexer": "ipython3",
   "version": "3.12.6"
  }
 },
 "nbformat": 4,
 "nbformat_minor": 2
}
