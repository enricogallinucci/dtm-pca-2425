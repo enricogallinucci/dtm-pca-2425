{
 "cells": [
  {
   "cell_type": "markdown",
   "id": "732f34fe",
   "metadata": {
    "deletable": true,
    "editable": true,
    "tags": []
   },
   "source": [
    "# Lab 6: Data structures\n",
    "\n",
    "Welcome to the sixth lab of the course, covering basic operations on data structures."
   ]
  },
  {
   "cell_type": "markdown",
   "id": "2f3256ae",
   "metadata": {
    "deletable": true,
    "editable": true,
    "tags": []
   },
   "source": [
    "## Exercise 1: Tuple basics\n",
    "\n",
    "In the following cell, some tuples have been created for you. Write and test the following functions:\n",
    "- 'printTupleElements(t)' to iterate over the elements of 't' and print each of them\n",
    "- 'intersectTuples(t1,t2)' to return the intersection of two tuples\n",
    "  - **Hint**: iterate over elements of t1 and add them to a new tuple t3 if they appear in t2\n",
    "- 'unionTuples(t1,t2)' to return the union of two tuples\n",
    "  - **Hint**: iterate over elements of t1 and add them to a new tuple t3; then, iterate over elements of t2 and add them to t3 if they do not appear already in t3\n",
    "- 'deleteFromTuple(t,n)' to return a tuple without the n-th element (0-based)"
   ]
  },
  {
   "cell_type": "code",
   "execution_count": 2,
   "id": "a4acc2a0-8941-495c-bb32-0cd6748f3a39",
   "metadata": {
    "tags": []
   },
   "outputs": [],
   "source": [
    "t1 = ('a','b','c')\n",
    "t2 = ('d','c','b')\n",
    "\n",
    "def printTupleElements(t):\n",
    "    for el in t:\n",
    "        print(el)\n",
    "\n",
    "def intersectTuples(t1,t2):\n",
    "    t3 = ()\n",
    "    for el in t1:\n",
    "        if(el in t2):\n",
    "            t3 = t3 + (el,)\n",
    "    return t3\n",
    "\n",
    "def unionTuples(t1,t2):\n",
    "    t3 = ()\n",
    "    for el in t1:\n",
    "        t3 = t3 + (el,)\n",
    "    for el in t2:\n",
    "        if(el not in t3):\n",
    "            t3 = t3 + (el,)\n",
    "    return t3\n",
    "    \n",
    "def deleteFromTuple(t,n):\n",
    "    i = 0\n",
    "    t3 = ()\n",
    "    for i in range(len(t)):\n",
    "        if(i!=n):\n",
    "            t3 = t3 + (t[i],)\n",
    "    return t3\n",
    "\n",
    "def deleteFromTupleByElement(t,el_to_delete):\n",
    "    t3 = ()\n",
    "    for el in t:\n",
    "        if not el == el_to_delete:\n",
    "            t3 = t3 + (el,)\n",
    "    print(t3)"
   ]
  },
  {
   "cell_type": "code",
   "execution_count": 3,
   "id": "f258f8aa-1857-4d57-a7b7-8cb12146db6c",
   "metadata": {
    "tags": []
   },
   "outputs": [
    {
     "name": "stdout",
     "output_type": "stream",
     "text": [
      "a\n",
      "b\n",
      "c\n"
     ]
    }
   ],
   "source": [
    "printTupleElements(t1) \n",
    "# Must return \n",
    "# a\n",
    "# b\n",
    "# c"
   ]
  },
  {
   "cell_type": "code",
   "execution_count": 5,
   "id": "49cad0f9-78ac-4a1b-9923-a9ce3b989d40",
   "metadata": {
    "tags": []
   },
   "outputs": [
    {
     "name": "stdout",
     "output_type": "stream",
     "text": [
      "d\n",
      "c\n",
      "b\n"
     ]
    }
   ],
   "source": [
    "printTupleElements(t2)\n",
    "# Must return \n",
    "# d\n",
    "# c\n",
    "# b"
   ]
  },
  {
   "cell_type": "code",
   "execution_count": 6,
   "id": "b63595a1-a3f3-468f-a3c8-004764e39254",
   "metadata": {
    "tags": []
   },
   "outputs": [
    {
     "data": {
      "text/plain": [
       "('b', 'c')"
      ]
     },
     "execution_count": 6,
     "metadata": {},
     "output_type": "execute_result"
    }
   ],
   "source": [
    "intersectTuples(t1,t2)\n",
    "# Must return\n",
    "# ('b', 'c')"
   ]
  },
  {
   "cell_type": "code",
   "execution_count": 7,
   "id": "95c8726d-9501-4eb4-b77b-c720e0e5e669",
   "metadata": {
    "tags": []
   },
   "outputs": [
    {
     "data": {
      "text/plain": [
       "('a', 'b', 'c', 'd')"
      ]
     },
     "execution_count": 7,
     "metadata": {},
     "output_type": "execute_result"
    }
   ],
   "source": [
    "unionTuples(t1,t2)\n",
    "# Must return\n",
    "# ('a', 'b', 'c', 'd')"
   ]
  },
  {
   "cell_type": "code",
   "execution_count": 10,
   "id": "ef9c3592-aed7-4525-9a7c-b7f9ae9fbfe0",
   "metadata": {
    "tags": []
   },
   "outputs": [
    {
     "data": {
      "text/plain": [
       "('b', 'c')"
      ]
     },
     "execution_count": 10,
     "metadata": {},
     "output_type": "execute_result"
    }
   ],
   "source": [
    "deleteFromTuple(t1,0)\n",
    "# Must return\n",
    "# ('b', 'c')"
   ]
  },
  {
   "cell_type": "code",
   "execution_count": 12,
   "id": "013e750a-96d6-4865-a367-9dd998797490",
   "metadata": {
    "tags": []
   },
   "outputs": [
    {
     "data": {
      "text/plain": [
       "('a', 'b')"
      ]
     },
     "execution_count": 12,
     "metadata": {},
     "output_type": "execute_result"
    }
   ],
   "source": [
    "deleteFromTuple(t1,2)\n",
    "# Must return\n",
    "# ('a', 'b')"
   ]
  },
  {
   "cell_type": "markdown",
   "id": "feeb7e50-44da-4ce7-8d2f-98f0cfe316e6",
   "metadata": {},
   "source": [
    "## Extra exercises\n",
    "\n",
    "Define the union and the intersection on a variable number of tuples\n",
    "- **Hint**: iterate over each tuple and carry out the union between the current tuple and the result from the previous union; the question is: what should happen in the first iteration?"
   ]
  },
  {
   "cell_type": "code",
   "execution_count": 15,
   "id": "55f0e183-e421-4197-9a84-34a07ee49d05",
   "metadata": {},
   "outputs": [],
   "source": [
    "def unionMoreTuples(*tuples):\n",
    "    # Initialize the result to empty\n",
    "    unionResult = ()\n",
    "    # Iterate on all the tuples in input and progressively do the union\n",
    "    for t in tuples:\n",
    "        unionResult = unionTuples(unionResult,t)\n",
    "    return unionResult"
   ]
  },
  {
   "cell_type": "code",
   "execution_count": 17,
   "id": "d6a669a6",
   "metadata": {},
   "outputs": [
    {
     "data": {
      "text/plain": [
       "(1, 2, 3, 4)"
      ]
     },
     "execution_count": 17,
     "metadata": {},
     "output_type": "execute_result"
    }
   ],
   "source": [
    "unionMoreTuples((1,2),(2,3),(3,4),(1,2,3))\n",
    "# Must return\n",
    "# (1, 2, 3, 4)"
   ]
  },
  {
   "cell_type": "code",
   "execution_count": 20,
   "id": "1e8c427b-2a77-48e1-899e-bb178eaa4666",
   "metadata": {},
   "outputs": [],
   "source": [
    "def intersectMoreTuples(*tuples):\n",
    "    # Initialize the result to empty\n",
    "    intersectionResult = tuples[0]\n",
    "\n",
    "    # Iterate on all the tuples in input and progressively do the intersection\n",
    "    for tuple in tuples:\n",
    "        intersectionResult = intersectTuples(intersectionResult,tuple)\n",
    "\n",
    "    return intersectionResult"
   ]
  },
  {
   "cell_type": "code",
   "execution_count": 21,
   "id": "a61fb199",
   "metadata": {},
   "outputs": [
    {
     "data": {
      "text/plain": [
       "(2, 3)"
      ]
     },
     "execution_count": 21,
     "metadata": {},
     "output_type": "execute_result"
    }
   ],
   "source": [
    "intersectMoreTuples((1,2,3,4),(3,2,5),(2,3,4))\n",
    "# Must return\n",
    "# (2, 3)"
   ]
  },
  {
   "cell_type": "markdown",
   "id": "e4da566c-53af-4c5b-83a9-7e52860a9d75",
   "metadata": {
    "editable": true,
    "tags": []
   },
   "source": [
    "## Exercise 2: List basics\n",
    "\n",
    "In the following cell, some lists have been created for you. Write and test the following functions:\n",
    "- 'printListElements(l)' to iterate over the elements of 'l' and print each of them\n",
    "- 'intersectLists(l1,l2)' to return the intersection of two lists\n",
    "  - **Hint**: use the 'append' method of lists\n",
    "- 'unionLists(l1,l2)' to return the union of two lists\n",
    "  - **Hint**: use the 'extend' method of lists\n",
    "- 'deleteFromList(l,n)' to return a list without the n-th element (0-based)\n",
    "  - **Hint**: use the 'del' function without mutating the original list"
   ]
  },
  {
   "cell_type": "code",
   "execution_count": 22,
   "id": "3bc31d97-9edb-44bb-84d3-207ed9cf0313",
   "metadata": {
    "tags": []
   },
   "outputs": [],
   "source": [
    "l1 = ['a','b','c']\n",
    "l2 = ['d','c','b']\n",
    "\n",
    "def printListElements(l):\n",
    "    for el in l:\n",
    "        print(el)\n",
    "\n",
    "def intersectLists(l1,l2):\n",
    "    l3 = []\n",
    "    for el in l1:\n",
    "        if(el in l2):\n",
    "            l3.append(el)\n",
    "    return l3\n",
    "\n",
    "def unionLists(l1,l2):\n",
    "    l3 = l1[:]\n",
    "    for el in l2:\n",
    "        if(el not in l3):\n",
    "            l3.extend(el)\n",
    "    return l3\n",
    "\n",
    "# returns a new list without mutating the one in input\n",
    "def deleteFromList(l,n):\n",
    "    l_new = l[:]\n",
    "    del(l_new[n])\n",
    "    return l_new\n",
    "\n",
    "# returns a new list by mutating the one in input\n",
    "def deleteFromList_mutable(l,n):\n",
    "    del(l[n])"
   ]
  },
  {
   "cell_type": "code",
   "execution_count": 23,
   "id": "fef5850e-5b3e-45e8-b7a6-0508bc9a400c",
   "metadata": {
    "tags": []
   },
   "outputs": [
    {
     "name": "stdout",
     "output_type": "stream",
     "text": [
      "a\n",
      "b\n",
      "c\n"
     ]
    }
   ],
   "source": [
    "printListElements(l1)\n",
    "# Must return\n",
    "# a\n",
    "# b\n",
    "# c"
   ]
  },
  {
   "cell_type": "code",
   "execution_count": 24,
   "id": "3013897e-0a12-4662-8d88-549a4856d30d",
   "metadata": {
    "tags": []
   },
   "outputs": [
    {
     "name": "stdout",
     "output_type": "stream",
     "text": [
      "d\n",
      "c\n",
      "b\n"
     ]
    }
   ],
   "source": [
    "printListElements(l2)\n",
    "# Must return\n",
    "# d\n",
    "# c\n",
    "# b"
   ]
  },
  {
   "cell_type": "code",
   "execution_count": 25,
   "id": "72633f47-44de-484b-a716-0365242aa95a",
   "metadata": {
    "tags": []
   },
   "outputs": [
    {
     "data": {
      "text/plain": [
       "['b', 'c']"
      ]
     },
     "execution_count": 25,
     "metadata": {},
     "output_type": "execute_result"
    }
   ],
   "source": [
    "intersectLists(l1,l2)\n",
    "# Must return\n",
    "# ['b', 'c']"
   ]
  },
  {
   "cell_type": "code",
   "execution_count": 26,
   "id": "062c668f-3c42-4610-9252-4cef318b40d6",
   "metadata": {
    "tags": []
   },
   "outputs": [
    {
     "data": {
      "text/plain": [
       "['a', 'b', 'c', 'd']"
      ]
     },
     "execution_count": 26,
     "metadata": {},
     "output_type": "execute_result"
    }
   ],
   "source": [
    "unionLists(l1,l2)\n",
    "# Must return\n",
    "# ['a', 'b', 'c', 'd']"
   ]
  },
  {
   "cell_type": "code",
   "execution_count": 29,
   "id": "354c0ca4-be20-422c-a290-1ceb98a1d566",
   "metadata": {
    "tags": []
   },
   "outputs": [
    {
     "data": {
      "text/plain": [
       "['b', 'c']"
      ]
     },
     "execution_count": 29,
     "metadata": {},
     "output_type": "execute_result"
    }
   ],
   "source": [
    "deleteFromList(l1,0)\n",
    "# Must return\n",
    "# ['b', 'c']"
   ]
  },
  {
   "cell_type": "code",
   "execution_count": 28,
   "id": "6912f2e1-9d37-4329-b205-d6ffc7dae857",
   "metadata": {
    "tags": []
   },
   "outputs": [
    {
     "data": {
      "text/plain": [
       "['a', 'b']"
      ]
     },
     "execution_count": 28,
     "metadata": {},
     "output_type": "execute_result"
    }
   ],
   "source": [
    "deleteFromList(l1,2)\n",
    "# Must return\n",
    "# ['a', 'b']"
   ]
  },
  {
   "cell_type": "markdown",
   "id": "bec88b39-b22d-4cef-a353-66fe9fa7083c",
   "metadata": {
    "editable": true,
    "tags": []
   },
   "source": [
    "## Exercise 3: Set basics\n",
    "\n",
    "In the following cell, some sets have been created for you. Write and test the following functions:\n",
    "- 'printSetElements(s)' to iterate over the elements of 's' and print each of them\n",
    "- 'intersectSets(s1,s2)' to return the intersection of two sets\n",
    "  - **Hint**: use the & operator\n",
    "- 'unionSets(s1,s2)' to return the union of two sets\n",
    "  - **Hint**: use the | operator\n",
    "- 'deleteFromSet(s,el)' to return a set without the 'el' element\n",
    "  - **Hint**: return a new set without the element in input"
   ]
  },
  {
   "cell_type": "code",
   "execution_count": 31,
   "id": "9a858f89-3b70-48aa-9fc4-fa16515c3b23",
   "metadata": {
    "tags": []
   },
   "outputs": [],
   "source": [
    "s1 = {'a','b','c'}\n",
    "s2 = {'d','c','b'}\n",
    "\n",
    "def printSetElements(s):\n",
    "    for el in s:\n",
    "        print(el)\n",
    "\n",
    "def intersectSets(s1,s2):\n",
    "    return s1 & s2\n",
    "\n",
    "def unionSets(s1,s2):\n",
    "    return s1 | s2\n",
    "\n",
    "# returns a new set:\n",
    "def deleteFromSet(s,el):\n",
    "    s_new = set()\n",
    "    for it in s:\n",
    "        if it != el:\n",
    "            s_new.add(it)\n",
    "    return s_new\n",
    "\n",
    "# mutates the set given in input\n",
    "def deleteFromSet_mutable(s,el):\n",
    "    s.remove(el)"
   ]
  },
  {
   "cell_type": "code",
   "execution_count": 32,
   "id": "ba6d3d8b-0ddf-436d-b4fa-4b8354dd2fd3",
   "metadata": {
    "tags": []
   },
   "outputs": [
    {
     "name": "stdout",
     "output_type": "stream",
     "text": [
      "a\n",
      "c\n",
      "b\n"
     ]
    }
   ],
   "source": [
    "printSetElements(s1)\n",
    "# Must return\n",
    "# a\n",
    "# b\n",
    "# c"
   ]
  },
  {
   "cell_type": "code",
   "execution_count": 33,
   "id": "2eb62565-53ca-415f-aa2b-b5c9f0940f08",
   "metadata": {
    "tags": []
   },
   "outputs": [
    {
     "name": "stdout",
     "output_type": "stream",
     "text": [
      "d\n",
      "c\n",
      "b\n"
     ]
    }
   ],
   "source": [
    "printSetElements(s2)\n",
    "# Must return\n",
    "# d\n",
    "# c\n",
    "# b"
   ]
  },
  {
   "cell_type": "code",
   "execution_count": 34,
   "id": "5bf7bea5-b519-421b-99a5-aa57fbebe3cd",
   "metadata": {
    "tags": []
   },
   "outputs": [
    {
     "data": {
      "text/plain": [
       "{'b', 'c'}"
      ]
     },
     "execution_count": 34,
     "metadata": {},
     "output_type": "execute_result"
    }
   ],
   "source": [
    "intersectSets(s1,s2)\n",
    "# Must return\n",
    "# {'b', 'c'}"
   ]
  },
  {
   "cell_type": "code",
   "execution_count": 35,
   "id": "c188dc1d-799a-4786-babb-d79f01a90708",
   "metadata": {
    "tags": []
   },
   "outputs": [
    {
     "data": {
      "text/plain": [
       "{'a', 'b', 'c', 'd'}"
      ]
     },
     "execution_count": 35,
     "metadata": {},
     "output_type": "execute_result"
    }
   ],
   "source": [
    "unionSets(s1,s2)\n",
    "# Must return\n",
    "# {'a', 'b', 'c', 'd'}"
   ]
  },
  {
   "cell_type": "code",
   "execution_count": 36,
   "id": "0b92c333-1ed9-45f6-8f25-20e0e81b430c",
   "metadata": {
    "tags": []
   },
   "outputs": [
    {
     "data": {
      "text/plain": [
       "{'b', 'c'}"
      ]
     },
     "execution_count": 36,
     "metadata": {},
     "output_type": "execute_result"
    }
   ],
   "source": [
    "deleteFromSet(s1,'a')\n",
    "# Must return\n",
    "# {'b', 'c'}"
   ]
  },
  {
   "cell_type": "markdown",
   "id": "4920efbb-52ee-43a6-aa23-8402ee654d7c",
   "metadata": {
    "editable": true,
    "tags": []
   },
   "source": [
    "## Exercise 4: Dictionary basics\n",
    "\n",
    "In the following cell, some dictionaries have been created for you. Write and test the following functions:\n",
    "- 'printDictElements(d)' to iterate over the elements of 'd' and print each of them\n",
    "- 'intersectDicts(d1,d2)' to return a dictionary containing only the keys that appear in both input dictionaries (the value must be the sum of the values on the input dictionaries);\n",
    "  - **Hint**: same logic as with tuples, but iterating on the keys\n",
    "- 'unionDicts(d1,d2)' to return dictionary containing all keys appearing in the two input dictionaries (as above, for common keys, the value must be the sum of the values on the input dictionaries);\n",
    "  - **Hint**: like with interesction, but keys existing in only one dictionary should also be added to the new dictionary\n",
    "- 'deleteFromDict(d,k)' to return a dictionary without the element with key 'k'\n",
    "  - **Hint**: return a new dictionary, do not mutate the existing one"
   ]
  },
  {
   "cell_type": "code",
   "execution_count": 37,
   "id": "bbfad72d-b0cf-41eb-84e3-4797e6b7c919",
   "metadata": {
    "tags": []
   },
   "outputs": [],
   "source": [
    "d1 = {'a':1,'b':2,'c':3}\n",
    "d2 = {'d':4,'c':5,'b':6}\n",
    "\n",
    "def printDictElements(d):\n",
    "    for el in d:\n",
    "        print(el)\n",
    "\n",
    "def intersectDicts(d1,d2):\n",
    "    d3 = {}\n",
    "    for k in d1.keys():\n",
    "        if k in d2.keys():\n",
    "            d3[k] = d1[k] + d2[k]\n",
    "    return d3\n",
    "\n",
    "def unionDicts(d1,d2):\n",
    "    d3 = {}\n",
    "    for k in d1.keys():\n",
    "        if k in d2.keys():\n",
    "            d3[k] = d1[k] + d2[k]\n",
    "        else:\n",
    "            d3[k] = d1[k]  \n",
    "    for k in d2.keys():\n",
    "        if k not in d1.keys():\n",
    "            d3[k] = d2[k]  \n",
    "    return d3\n",
    "\n",
    "# returns a new dict:\n",
    "def deleteFromDict(d,k):\n",
    "    d_new = {}\n",
    "    for j in d.keys():\n",
    "        if j != k:\n",
    "            d_new[j] = d[j]\n",
    "    return d_new\n",
    "\n",
    "# mutates the dict given in input\n",
    "def deleteFromDict_mutable(d,k):\n",
    "    del(d[k])"
   ]
  },
  {
   "cell_type": "code",
   "execution_count": 38,
   "id": "8a3e0a3b-e181-4baa-9a91-401ee3fc1094",
   "metadata": {
    "tags": []
   },
   "outputs": [
    {
     "name": "stdout",
     "output_type": "stream",
     "text": [
      "a\n",
      "b\n",
      "c\n"
     ]
    }
   ],
   "source": [
    "printDictElements(d1)\n",
    "# Must return\n",
    "# a\n",
    "# b\n",
    "# c"
   ]
  },
  {
   "cell_type": "code",
   "execution_count": 40,
   "id": "0c824f73-9bf9-4ea6-8e43-b2cd8616c1ec",
   "metadata": {
    "tags": []
   },
   "outputs": [
    {
     "name": "stdout",
     "output_type": "stream",
     "text": [
      "d\n",
      "c\n",
      "b\n"
     ]
    }
   ],
   "source": [
    "printDictElements(d2)\n",
    "# Must return\n",
    "# d\n",
    "# c\n",
    "# b"
   ]
  },
  {
   "cell_type": "code",
   "execution_count": 41,
   "id": "c1efc252-f85b-4b99-8565-d937e9fe5d0a",
   "metadata": {
    "tags": []
   },
   "outputs": [
    {
     "data": {
      "text/plain": [
       "{'b': 8, 'c': 8}"
      ]
     },
     "execution_count": 41,
     "metadata": {},
     "output_type": "execute_result"
    }
   ],
   "source": [
    "intersectDicts(d1,d2)\n",
    "# Must return\n",
    "# {'b': 8, 'c': 8}"
   ]
  },
  {
   "cell_type": "code",
   "execution_count": 42,
   "id": "ab60721e-1e2e-4393-b05e-3fa7d7c4fa1c",
   "metadata": {
    "tags": []
   },
   "outputs": [
    {
     "data": {
      "text/plain": [
       "{'a': 1, 'b': 8, 'c': 8, 'd': 4}"
      ]
     },
     "execution_count": 42,
     "metadata": {},
     "output_type": "execute_result"
    }
   ],
   "source": [
    "unionDicts(d1,d2)\n",
    "# Must return\n",
    "# {'a': 1, 'b': 8, 'c': 8, 'd': 4}"
   ]
  },
  {
   "cell_type": "code",
   "execution_count": 47,
   "id": "514646a5-2ea2-4fbc-9d2c-b9ad96429b32",
   "metadata": {
    "tags": []
   },
   "outputs": [
    {
     "data": {
      "text/plain": [
       "{'b': 2, 'c': 3}"
      ]
     },
     "execution_count": 47,
     "metadata": {},
     "output_type": "execute_result"
    }
   ],
   "source": [
    "deleteFromDict(d1,'a')\n",
    "# Must return\n",
    "# {'b': 2, 'c': 3}"
   ]
  },
  {
   "cell_type": "markdown",
   "id": "9f8e0d71",
   "metadata": {},
   "source": [
    "## Exercise 5: Combining lists\n",
    "\n",
    "### 5.1\n",
    "\n",
    "First, write a Python function called *enum_string* that takes in input a string 's' and a number 'n' and returns a tuple where the string is repeated n times.\n",
    "\n",
    "For example,\n",
    "\n",
    "    enum_string('X',4)\n",
    "    \n",
    "must return:\n",
    "\n",
    "    ('X','X','X','X')\n",
    "\n",
    "### 5.2\n",
    "\n",
    "Second, write a Python function called *combine_lists* that takes two input parameters. The first is a list of positive integer numbers, the second is a list of strings. You can assume the two lists contain the same number of elements. The function must return a list of tuples (n, s, t), where:\n",
    "- n is the corresponding number in the first input list, \n",
    "- s is the corresponding string in the second input list, \n",
    "- t is a tuple containing n times the string s.\n",
    "\n",
    "For example,\n",
    "\n",
    "    combine_lists([1, 2, 3], [\"A\", \"B\", \"C\"])\n",
    "    \n",
    "must return:\n",
    "\n",
    "    [(1, 'A', ('A',)),\n",
    "     (2, 'B', ('B','B')),\n",
    "     (3, 'C', ('C', 'C', 'C'))]\n",
    "    \n",
    "Suggestion: the *zip* built-in function (https://docs.python.org/3/library/functions.html#zip) may be useful to implement a concise solution using the *list comprehension* syntax."
   ]
  },
  {
   "cell_type": "code",
   "execution_count": 13,
   "id": "2867b71d",
   "metadata": {},
   "outputs": [],
   "source": [
    "def enum_string(s,n):\n",
    "    return (s,)*n"
   ]
  },
  {
   "cell_type": "code",
   "execution_count": 14,
   "id": "cdb003b4",
   "metadata": {},
   "outputs": [
    {
     "data": {
      "text/plain": [
       "('X', 'X', 'X', 'X')"
      ]
     },
     "execution_count": 14,
     "metadata": {},
     "output_type": "execute_result"
    }
   ],
   "source": [
    "enum_string('X',4)"
   ]
  },
  {
   "cell_type": "code",
   "execution_count": 3,
   "id": "db494f57",
   "metadata": {},
   "outputs": [],
   "source": [
    "def combine_lists(numbers, strings):\n",
    "    print(\"1st version\")\n",
    "    l = []\n",
    "    for i in range(len(numbers)):\n",
    "        t = ()\n",
    "        for j in range(numbers[i]):\n",
    "            t = t + (strings[i],)\n",
    "        l.append((numbers[i],strings[i],t))\n",
    "    return l"
   ]
  },
  {
   "cell_type": "code",
   "execution_count": 15,
   "id": "edd8747d",
   "metadata": {},
   "outputs": [],
   "source": [
    "def combine_lists(numbers, strings):\n",
    "    print(\"2nd version\")\n",
    "    l = []\n",
    "    for i in range(len(numbers)):\n",
    "        l.append( (numbers[i],strings[i],enum_string(strings[i],numbers[i])) )\n",
    "    return l"
   ]
  },
  {
   "cell_type": "code",
   "execution_count": 17,
   "id": "59088930",
   "metadata": {},
   "outputs": [],
   "source": [
    "def combine_lists(numbers, strings):\n",
    "    print(\"3rd version\")\n",
    "    return [(n, s, enum_string(s,n)) for n, s in zip(numbers, strings)]"
   ]
  },
  {
   "cell_type": "code",
   "execution_count": 18,
   "id": "eb604ada",
   "metadata": {},
   "outputs": [
    {
     "name": "stdout",
     "output_type": "stream",
     "text": [
      "3rd version\n"
     ]
    },
    {
     "data": {
      "text/plain": [
       "[(1, 'A', ('A',)), (2, 'B', ('B', 'B')), (3, 'C', ('C', 'C', 'C'))]"
      ]
     },
     "execution_count": 18,
     "metadata": {},
     "output_type": "execute_result"
    }
   ],
   "source": [
    "combine_lists([1, 2, 3], [\"A\", \"B\", \"C\"])"
   ]
  }
 ],
 "metadata": {
  "kernelspec": {
   "display_name": "Python 3",
   "language": "python",
   "name": "python3"
  },
  "language_info": {
   "codemirror_mode": {
    "name": "ipython",
    "version": 3
   },
   "file_extension": ".py",
   "mimetype": "text/x-python",
   "name": "python",
   "nbconvert_exporter": "python",
   "pygments_lexer": "ipython3",
   "version": "3.12.6"
  },
  "toc-autonumbering": false,
  "toc-showcode": true,
  "toc-showmarkdowntxt": true,
  "toc-showtags": true
 },
 "nbformat": 4,
 "nbformat_minor": 5
}
