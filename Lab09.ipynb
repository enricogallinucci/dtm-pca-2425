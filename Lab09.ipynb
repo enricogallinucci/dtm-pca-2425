{
 "cells": [
  {
   "cell_type": "markdown",
   "metadata": {},
   "source": [
    "# Lab 09: lambdas and comprehension"
   ]
  },
  {
   "cell_type": "markdown",
   "metadata": {},
   "source": [
    "## Exercise 0: Lambda basics\n",
    "\n",
    "Lambda functions are useful when you want to parametrize some behaviors. Look at the following example, which parameterizes how *x* and *y* are meant to be used depending on a given parameter *n*."
   ]
  },
  {
   "cell_type": "code",
   "execution_count": null,
   "metadata": {},
   "outputs": [],
   "source": [
    "import random\n",
    "r = [\n",
    "    lambda x,y: x+y, # Sum\n",
    "    lambda x,y: x-y, # Difference\n",
    "    lambda x,y: x*y  # Multiplication\n",
    "]\n",
    "n = random.randrange(0,3,1)\n",
    "print(f\"Random number is {n}\")\n",
    "r[n](2,3)"
   ]
  },
  {
   "cell_type": "markdown",
   "metadata": {},
   "source": [
    "## Exercise 1: Compare strings\n",
    "\n",
    "Consider the following two sets:"
   ]
  },
  {
   "cell_type": "code",
   "execution_count": null,
   "metadata": {},
   "outputs": [],
   "source": [
    "s1 = {\"a\",\"b\",\"c\"}\n",
    "s2 = {\"b\",\"c\",\"d\"}"
   ]
  },
  {
   "cell_type": "markdown",
   "metadata": {},
   "source": [
    "Define the variable *comparators* as a LIST of lambda functions that compute:\n",
    "- The union of two strings\n",
    "- The difference of two strings\n",
    "- The intersection of two strings\n",
    "\n",
    "(If you don't remember how this is done, check Slides 5bis). \n",
    "\n",
    "Then, define a function ```compare_strings(fun,s1,s2)``` that applies to *s1* and *s2* the function *fun* given in input and returns the result."
   ]
  },
  {
   "cell_type": "code",
   "execution_count": null,
   "metadata": {},
   "outputs": [],
   "source": [
    "comparators = [\n",
    "    # ...\n",
    "]"
   ]
  },
  {
   "cell_type": "code",
   "execution_count": null,
   "metadata": {},
   "outputs": [],
   "source": [
    "def compare_strings(fun,s1,s2):\n",
    "    # ..."
   ]
  },
  {
   "cell_type": "code",
   "execution_count": null,
   "metadata": {},
   "outputs": [],
   "source": [
    "compare_strings(comparators[2],s1,s2)"
   ]
  },
  {
   "cell_type": "markdown",
   "metadata": {},
   "source": [
    "## Exercise 2: Sorting grades\n",
    "\n",
    "You have a list of tuples, *grades*, where each tuple contains a grade received by a student on a course. The format is: (student_id, student_name, course, grade, laude); note that *laude* is a boolean value denoting the \"30 cum laude\" grade.\n",
    "\n",
    "Write code that uses the Python built-in function *sorted* (https://docs.python.org/3/library/functions.html#sorted) in combination with lambda functions to sort the list as follows:\n",
    "- Sort by student id\n",
    "- Sort by name\n",
    "- Sort by grades\n",
    "- Sort by decreasing grades\n",
    "- Sort by decreasing grades; in case of parity, give precedence to laudes\n",
    "- Sort by decreasing grades; in case of parity, give precedence to laudes; in case of parity, sort alphabetically\n",
    "\n",
    "Finally:\n",
    "- Use list comprehension to return a new list with the names of students with a grade on 'Database systems'\n",
    "- (Extra) Considering the last sorting function above, replace the *grades* list with a call to the *filter* function (https://docs.python.org/3/library/functions.html#filter) that keeps only occurrences of the 'Database systems' course"
   ]
  },
  {
   "cell_type": "code",
   "execution_count": null,
   "metadata": {},
   "outputs": [],
   "source": [
    "grades = [\n",
    " (42, 'Alice', 'Programming and computer architectures', 18, False),\n",
    " (42, 'Alice', 'Database systems', 18, False),\n",
    " (1, 'Bob', 'Fundamentals of accounting', 23, False),\n",
    " (1, 'Bob', 'Fundamentals of management and organization', 30, False),\n",
    " (2, 'Chuck', 'Fundamentals of finance and banking', 28, False),\n",
    " (5, 'Dan', 'Fundamentals of accounting', 24, False),\n",
    " (5, 'Dan', 'Operating systems, networks and web', 23, False),\n",
    " (4, 'Eve', 'Fundamentals of management and organization', 24, False),\n",
    " (4, 'Eve', 'Fundamentals of accounting', 30, False),\n",
    " (99, 'Frank', 'Fundamentals of finance and banking', 23, False),\n",
    " (1, 'Bob', 'Programming and computer architectures', 30, True),\n",
    " (5, 'Dan', 'Database systems', 25, False),\n",
    " (99, 'Frank', 'Fundamentals of management and organization', 26, False),\n",
    " (99, 'Frank', 'Programming and computer architectures', 25, False),\n",
    " (99, 'Frank', 'Database systems', 27, False),\n",
    " (2, 'Chuck', 'Operating systems, networks and web', 26, False),\n",
    " (4, 'Eve', 'Operating systems, networks and web', 30, True),\n",
    " (42, 'Alice', 'Fundamentals of finance and banking', 29, False),\n",
    " (2, 'Chuck', 'Fundamentals of management and organization', 30, True),\n",
    " (99, 'Frank', 'Operating systems, networks and web', 22, False),\n",
    " (2, 'Chuck', 'Database systems', 30, False),\n",
    " (5, 'Dan', 'Fundamentals of finance and banking', 30, False),\n",
    " (2, 'Chuck', 'Fundamentals of accounting', 28, False),\n",
    " (1, 'Bob', 'Operating systems, networks and web', 24, False),\n",
    " (1, 'Bob', 'Database systems', 24, False),\n",
    " (5, 'Dan', 'Fundamentals of management and organization', 19, False),\n",
    " (5, 'Dan', 'Programming and computer architectures', 30, False),\n",
    " (2, 'Chuck', 'Programming and computer architectures', 23, False),\n",
    " (99, 'Frank', 'Fundamentals of accounting', 18, False),\n",
    " (1, 'Bob', 'Fundamentals of finance and banking', 22, False),\n",
    " (4, 'Eve', 'Programming and computer architectures', 24, False),\n",
    " (4, 'Eve', 'Fundamentals of finance and banking', 20, False),\n",
    " (42, 'Alice', 'Fundamentals of accounting', 30, False),\n",
    " (42, 'Alice', 'Operating systems, networks and web', 18, False)\n",
    "]"
   ]
  },
  {
   "cell_type": "markdown",
   "metadata": {},
   "source": [
    "## Exercise 3: List of strings\n",
    "\n",
    "Write a Python function named *analyze_strings* that takes a list of strings as its only parameter. The function must return a tuple (n1, n2, l), where:\n",
    "- n1 is the length of the shortest string;\n",
    "- n2 is the length of the longest string;\n",
    "- l is a list containing, for each input string, a tuple (c1, c2, s), where c1 and c2 are the first and last characters in the string, respectively, and s is the string reversed.\n",
    "\n",
    "For example,\n",
    "\n",
    "```analyze_strings([\"One\", \"Two\", \"Three\"])```\n",
    "    \n",
    "must return:\n",
    "\n",
    "```(3, 5, [('O', 'e', 'enO'), ('T', 'o', 'owT'), ('T', 'e', 'eerhT')])```\n",
    "    \n",
    "You can assume that the input list is not empty and that it does not contain empty strings. Use the *list comprehension* syntax as much as possible."
   ]
  },
  {
   "cell_type": "code",
   "execution_count": null,
   "metadata": {},
   "outputs": [],
   "source": [
    "def analyze_strings(l):\n",
    "    # ..."
   ]
  },
  {
   "cell_type": "markdown",
   "metadata": {},
   "source": [
    "## Exercise 4: Histogram of letters\n",
    "\n",
    "Write a Python function called *create_histogram* that takes a string as input parameter and performs the following operations:\n",
    "- converts all the characters to uppercase;\n",
    "- counts the occurrences of each letter in the text and creates a dictionary that associates to each letter its number of occurrences;\n",
    "  - *Hint: to consider only non-alphabetic characters, use the ```.isalpha()``` method of strings*\n",
    "- returns a list of tuples (l, h), where l is a letter and h a string containing as many asterisks as many times the word appears in the text; the list of tuples must be sorted according to the alphabetic order of the letters.\n",
    "\n",
    "For example,\n",
    "\n",
    "```create_histogram(\"If we can't live together, we're gonna die alone.\")```\n",
    "    \n",
    "must return:\n",
    "\n",
    "    [('A', '***'),\n",
    "     ('C', '*'),\n",
    "     ('D', '*'),\n",
    "     ('E', '********'),\n",
    "     ('F', '*'),\n",
    "     ('G', '**'),\n",
    "     ('H', '*'),\n",
    "     ('I', '***'),\n",
    "     ('L', '**'),\n",
    "     ('N', '****'),\n",
    "     ('O', '***'),\n",
    "     ('R', '**'),\n",
    "     ('T', '***'),\n",
    "     ('V', '*'),\n",
    "     ('W', '**')]"
   ]
  },
  {
   "cell_type": "code",
   "execution_count": null,
   "metadata": {},
   "outputs": [],
   "source": [
    "def create_histogram(text):\n",
    "    # ..."
   ]
  }
 ],
 "metadata": {
  "language_info": {
   "name": "python"
  }
 },
 "nbformat": 4,
 "nbformat_minor": 2
}
