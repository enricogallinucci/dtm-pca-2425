{
 "cells": [
  {
   "cell_type": "markdown",
   "metadata": {},
   "source": [
    "## Lab 08: Expenses and Budgeting\n",
    "\n",
    "Welcome to the eigth lab of the course; we will do exercises on data structures and comprehension syntax simulating analysis of expenses."
   ]
  },
  {
   "cell_type": "markdown",
   "metadata": {},
   "source": [
    "## Exercise 1: Getting started\n",
    "\n",
    "Use comprehension syntax on `list_expenses` to\n",
    "- create a list where only the amount is kept\n",
    "- create a list where only expenses made to Uber are kept\n",
    "- create the set of dates in dd/mm/yyyy format (hint: split the date on '-' and concatenate the different pieces)\n",
    "- create a list of tuples with two elements: the price (rounded to no decimals) and the length of the string describing the recipient (second element of the tuple); this, only if the tuple in `list_expenses` contains the word \"util\" in the category of the expense\n",
    "- create the set of categories for which there is at least an expense of 60 euros"
   ]
  },
  {
   "cell_type": "code",
   "execution_count": null,
   "metadata": {},
   "outputs": [],
   "source": [
    "list_expenses = [\n",
    "    ('2024-10-01','Starbucks',5.75,'Food & Drink'),\n",
    "    ('2024-10-05','Amazon',35.50,'Shopping'),\n",
    "    ('2024-10-08','Local Restaurant',28.75,'Food & Drink'),\n",
    "    ('2024-10-08','Uber',12.35,'Transportation'),\n",
    "    ('2024-10-08','Electric Company',102.45,'Utilities'),\n",
    "    ('2024-10-13','Walmart',68.20,'Groceries'),\n",
    "    ('2024-10-13','Cinema',13.99,'Entertainment'),\n",
    "    ('2024-10-13','Starbucks',4.50,'Food & Drink'),\n",
    "    ('2024-10-22','Walmart',78.90,'Groceries'),\n",
    "    ('2024-10-22','Water Utility',60.25,'Utilities'),\n",
    "    ('2024-10-25','Amazon',25.99,'Shopping'),\n",
    "    ('2024-10-25','Uber',10.75,'Transportation')\n",
    "]"
   ]
  },
  {
   "cell_type": "code",
   "execution_count": null,
   "metadata": {},
   "outputs": [],
   "source": [
    "[ t[2] for t in list_expenses ]\n",
    "[ t for t in list_expenses if t[1]=='Uber']\n",
    "{ t[0].split('-')[2]+\"/\"+t[0].split('-')[1]+t[0].split('-')[0] for t in list_expenses}\n",
    "# alternative: { \"/\".join(reversed(item[0].split('-'))) for item in list_expenses }\n",
    "# alternative: { \"/\".join(item[0].split('-')[::-1]) for item in list_expenses }\n",
    "[ (round(t[2]), len(t[1])) for t in list_expenses if \"util\" in t[1].lower() ]\n",
    "{ t[3] for t in list_expenses if t[2]>=60}"
   ]
  },
  {
   "cell_type": "markdown",
   "metadata": {},
   "source": [
    "## Exercise 2: Merging expenses\n",
    "\n",
    "If you have multiple bank accounts, each of themm will give you their own list of expenses, using different structures. The goal here is to merge them into a single, uniform list."
   ]
  },
  {
   "cell_type": "markdown",
   "metadata": {},
   "source": [
    "## 2.1 Mapping functions\n",
    "\n",
    "Assume the existence of a mapping dictionary (see below) to be used to replace keys and values in the list of expenses. Each dictionary item is structured as \n",
    "    \n",
    "    mapping['correct_key'] = (set_of_wrong_keys_to_be_replaced_with_correct_key, mapping_function_to_be_applied_to_values_with_wrong_keys)\n",
    "\n",
    "Complete the mapping dictionary by:\n",
    "- Creating a function that takes only the date part in a string that contains datetime field\n",
    "    - E.g., `date_polish(\"2024-01-01 08:15\")` must return '2024-01-01'\n",
    "- Adding a lambda functiont to the 'amount' key that takes in input a number and returns its value rounded to 2 decimals"
   ]
  },
  {
   "cell_type": "code",
   "execution_count": null,
   "metadata": {},
   "outputs": [],
   "source": [
    "def date_polish(date):\n",
    "    return date[:10]"
   ]
  },
  {
   "cell_type": "code",
   "execution_count": null,
   "metadata": {},
   "outputs": [],
   "source": [
    "date_polish(\"2024-01-01 08:15\")"
   ]
  },
  {
   "cell_type": "code",
   "execution_count": null,
   "metadata": {},
   "outputs": [],
   "source": [
    "mapping = dict()\n",
    "mapping['date'] = ({'datetime'}, date_polish)\n",
    "mapping['amount'] = ({'expense','value'}, lambda v: round(v,2))"
   ]
  },
  {
   "cell_type": "markdown",
   "metadata": {},
   "source": [
    "## 2.2 Count the number of items that need to be resolved\n",
    "\n",
    "- Create a set as the union of the values in the mapping dictionary\n",
    "- Iterate on the lists to verify if an item contains one of the keys that should be replaced"
   ]
  },
  {
   "cell_type": "code",
   "execution_count": null,
   "metadata": {},
   "outputs": [],
   "source": [
    "lists = [[\n",
    "    {'date': '2024-10-12', 'recipient': 'Starbucks', 'description': 'Coffee', 'amount': 495.37, 'category': 'Food & Drink'},\n",
    "    {'date': '2024-10-15', 'recipient': 'Starbucks', 'description': 'Coffee', 'amount': 484.96, 'category': 'Food & Drink'},\n",
    "    {'date': '2024-10-05', 'recipient': 'Starbucks', 'description': 'Coffee', 'value': 338.41003, 'category': 'Food & Drink'}\n",
    "],[\n",
    "    {'datetime': '2024-10-17 09:00', 'recipient': 'Uber', 'description': 'Fuel', 'amount': 200.44545, 'category': 'Transportation'},\n",
    "    {'datetime': '2024-10-10 10:30', 'recipient': 'Apple Store', 'description': 'Gadget purchase', 'amount': 69.46769, 'category': 'Electronics'},\n",
    "    {'datetime': '2024-10-21 11:45', 'recipient': 'Amazon', 'description': 'Online purchase', 'expense': 213.89211, 'category': 'Shopping'}\n",
    "]]"
   ]
  },
  {
   "cell_type": "code",
   "execution_count": null,
   "metadata": {},
   "outputs": [],
   "source": [
    "combined_set = set()\n",
    "for k in mapping.keys():\n",
    "    combined_set = combined_set | mapping[k][0]\n",
    "    \n",
    "combined_set"
   ]
  },
  {
   "cell_type": "code",
   "execution_count": null,
   "metadata": {},
   "outputs": [],
   "source": [
    "cnt = 0\n",
    "for list in lists:\n",
    "    for item in list:\n",
    "        wrong_label_found = False\n",
    "        for k in combined_set:\n",
    "            if k in item.keys():\n",
    "                wrong_label_found = True\n",
    "                print(f'I found here that item {item} contains {k}')\n",
    "        if wrong_label_found:\n",
    "            # The counter is increased only once per item\n",
    "            cnt += 1\n",
    "cnt"
   ]
  },
  {
   "cell_type": "code",
   "execution_count": null,
   "metadata": {},
   "outputs": [],
   "source": [
    "# Alternative, more compact version\n",
    "cnt = 0\n",
    "for list in lists:\n",
    "    for item in list:\n",
    "        if len(item.keys() & combined_set) > 0:\n",
    "            cnt += 1\n",
    "            print(f'I found here that item {item} contains something that labels {item.keys() & combined_set} must be changed')\n",
    "cnt"
   ]
  },
  {
   "cell_type": "markdown",
   "metadata": {},
   "source": [
    "## 2.3 Make consistent items\n",
    "\n",
    "- Unify the lists: instead of a list of lists of items, make it a single list of items\n",
    "- Iterate on the list to replace wrong keys with correct keys; use `item.pop(key)` to remove a key"
   ]
  },
  {
   "cell_type": "code",
   "execution_count": null,
   "metadata": {},
   "outputs": [],
   "source": [
    "new_list = []\n",
    "for l in lists:\n",
    "    new_list.extend(l)\n",
    "    # alternative: new_list += l"
   ]
  },
  {
   "cell_type": "code",
   "execution_count": null,
   "metadata": {},
   "outputs": [],
   "source": [
    "# First solution: for every item, iterate on the dictionary to check whether the wrong keys exist in the item\n",
    "for item in new_list:\n",
    "    for correct_key in mapping.keys():\n",
    "        for wrong_key in mapping[correct_key][0]:\n",
    "            if wrong_key in item:\n",
    "                item[correct_key] = mapping[correct_key][1](item[wrong_key])\n",
    "                item.pop(wrong_key)\n",
    "\n",
    "new_list"
   ]
  },
  {
   "cell_type": "code",
   "execution_count": null,
   "metadata": {},
   "outputs": [],
   "source": [
    "# Second solution: for every item, iterate on its keys to check whether they are indicated in the mapping as wrong keys\n",
    "\n",
    "# This solution may give errors on the third line\n",
    "# In general, iterating over something (in this case, the mapping.keys()) that is being updated (in this case, by adding new keys) is not good practice\n",
    "# Since sets do not have a fixed order, the error may or may not show up - you will see this by restarting the kernel multiple times\n",
    "# for item in new_list:\n",
    "#     for orig_key in item.keys():\n",
    "#         for correct_key in mapping.keys():\n",
    "#             if orig_key in mapping[correct_key][0]:\n",
    "#                 item[correct_key] = mapping[correct_key][1](item[orig_key])\n",
    "    \n",
    "# To avoid the error above, new key-value pairs are first put in a temporary new_item and then added to the original item\n",
    "for item in new_list:\n",
    "    new_item = {}\n",
    "    for orig_key in item.keys():\n",
    "        for correct_key in mapping.keys():\n",
    "            if orig_key in mapping[correct_key][0]:\n",
    "                new_item[correct_key] = mapping[correct_key][1](item[orig_key])\n",
    "    \n",
    "    for new_key in new_item:\n",
    "        item[new_key] = new_item[new_key]\n",
    "        \n",
    "new_list"
   ]
  }
 ],
 "metadata": {
  "kernelspec": {
   "display_name": "Python 3",
   "language": "python",
   "name": "python3"
  },
  "language_info": {
   "codemirror_mode": {
    "name": "ipython",
    "version": 3
   },
   "file_extension": ".py",
   "mimetype": "text/x-python",
   "name": "python",
   "nbconvert_exporter": "python",
   "pygments_lexer": "ipython3",
   "version": "3.12.4"
  }
 },
 "nbformat": 4,
 "nbformat_minor": 2
}
