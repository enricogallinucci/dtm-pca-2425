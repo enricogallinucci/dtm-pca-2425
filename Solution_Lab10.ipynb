{
 "cells": [
  {
   "cell_type": "markdown",
   "id": "f5d6bef9",
   "metadata": {
    "deletable": true,
    "editable": true
   },
   "source": [
    "# Lab 10: Summing up\n",
    "\n",
    "Welcome to the tenth lab of the course. This lab make a summary of the exercises from previous labs.\n",
    "\n",
    "## Part 1"
   ]
  },
  {
   "cell_type": "code",
   "execution_count": 1,
   "id": "7569255d",
   "metadata": {
    "deletable": true,
    "editable": true,
    "tags": []
   },
   "outputs": [
    {
     "name": "stdout",
     "output_type": "stream",
     "text": [
      "[1, 2, 3, 4, 5, 6, 7, 8, 9, 10]\n"
     ]
    }
   ],
   "source": [
    "# Use a for loop to create a list 'myList' of 10 numbers, from 1 to 10\n",
    "myList = []\n",
    "for i in range(1,11):\n",
    "    myList.append(i)\n",
    "print(myList)\n",
    "# Expected result: [1, 2, 3, 4, 5, 6, 7, 8, 9, 10]"
   ]
  },
  {
   "cell_type": "code",
   "execution_count": 2,
   "id": "94f11432-4ed0-49ae-8e77-f2c339e9f6ae",
   "metadata": {
    "editable": true,
    "tags": []
   },
   "outputs": [
    {
     "name": "stdout",
     "output_type": "stream",
     "text": [
      "55\n"
     ]
    }
   ],
   "source": [
    "# Iterate over myList to sum all elements, then print the sum\n",
    "sum = 0\n",
    "for i in myList:\n",
    "    sum += i\n",
    "print(sum)\n",
    "# Expected result: 55"
   ]
  },
  {
   "cell_type": "code",
   "execution_count": 3,
   "id": "41d23fde-a004-4476-8b6d-2a4430c3367d",
   "metadata": {
    "editable": true,
    "tags": []
   },
   "outputs": [
    {
     "name": "stdout",
     "output_type": "stream",
     "text": [
      "[1, 4, 9, 16, 25, 36, 49, 64, 81, 100]\n"
     ]
    }
   ],
   "source": [
    "# Use a while loop to iterate over myList and create a new 'myList2' with the same numbers elevated to the power of 2\n",
    "myList2 = []\n",
    "i = 0\n",
    "while i<len(myList):\n",
    "    myList2.append(myList[i]**2)\n",
    "    i += 1\n",
    "print(myList2)\n",
    "# Expected result: [1, 4, 9, 16, 25, 36, 49, 64, 81, 100]"
   ]
  },
  {
   "cell_type": "code",
   "execution_count": 4,
   "id": "04326776-1c4f-49f6-9a80-9fb3477d77a5",
   "metadata": {
    "editable": true,
    "tags": []
   },
   "outputs": [
    {
     "name": "stdout",
     "output_type": "stream",
     "text": [
      "[1.0, 1.4142135623730951, 1.7320508075688772, 2.0, 2.23606797749979, 2.449489742783178, 2.6457513110645907, 2.8284271247461903, 3.0, 3.1622776601683795]\n"
     ]
    }
   ],
   "source": [
    "# Use list comprehension to create a new 'myList3' with the square values of myList\n",
    "myList3 = [i**0.5 for i in myList]\n",
    "print(myList3)\n",
    "# Expected result: [1.0, 1.4142135623730951, 1.7320508075688772, 2.0, 2.23606797749979, 2.449489742783178, 2.6457513110645907, 2.8284271247461903, 3.0, 3.1622776601683795]"
   ]
  },
  {
   "cell_type": "code",
   "execution_count": 5,
   "id": "d24e1ff3-c6b6-4ff2-a7a7-48a64396c4ea",
   "metadata": {
    "editable": true,
    "tags": []
   },
   "outputs": [
    {
     "name": "stdout",
     "output_type": "stream",
     "text": [
      "[2.0, 2.23606797749979, 2.449489742783178, 2.6457513110645907, 2.8284271247461903, 3.0, 3.1622776601683795]\n"
     ]
    }
   ],
   "source": [
    "# Use list comprehension to create a new 'myList4' with the square values of myList (as above), but keep only squared values that are greater than or equals to 2\n",
    "myList4 = [i**0.5 for i in myList if i**0.5>=2]\n",
    "print(myList4)\n",
    "# Expected result: [2.0, 2.23606797749979, 2.449489742783178, 2.6457513110645907, 2.8284271247461903, 3.0, 3.1622776601683795]"
   ]
  },
  {
   "cell_type": "code",
   "execution_count": 6,
   "id": "1a590f92-4bea-44a0-b298-506bd2d7b4dc",
   "metadata": {
    "editable": true,
    "tags": []
   },
   "outputs": [
    {
     "name": "stdout",
     "output_type": "stream",
     "text": [
      "[(1.0, 1, '*'), (1.4142135623730951, 1, '*'), (1.7320508075688772, 1, '*'), (2.0, 2, '**'), (2.23606797749979, 2, '**'), (2.449489742783178, 2, '**'), (2.6457513110645907, 2, '**'), (2.8284271247461903, 2, '**'), (3.0, 3, '***'), (3.1622776601683795, 3, '***')]\n"
     ]
    }
   ],
   "source": [
    "# Use list comprehension to create a new 'myList5' by iterating over myList3 and creating tuples in the form (a,b,c) \n",
    "# where a is the original number, b is its reduction to int (removing the decimals), and c is a string with b stars;\n",
    "# for instance, 2.23606797749979 should produce (2.23606797749979, 2, \"**\")\n",
    "myList5 = [(i,int(i),int(i)*\"*\") for i in myList3]\n",
    "print(myList5)\n",
    "# Expected result: \n",
    "# [(1.0, 1, '*'), (1.4142135623730951, 1, '*'), (1.7320508075688772, 1, '*'), (2.0, 2, '**'), (2.23606797749979, 2, '**'), \n",
    "#  (2.449489742783178, 2, '**'), (2.6457513110645907, 2, '**'), (2.8284271247461903, 2, '**'), (3.0, 3, '***'), (3.1622776601683795, 3, '***')]"
   ]
  },
  {
   "cell_type": "code",
   "execution_count": null,
   "id": "13c86a87",
   "metadata": {
    "deletable": true,
    "editable": true,
    "tags": [
     "exercise"
    ]
   },
   "outputs": [],
   "source": [
    "# Create a function listToSet that takes in input a list in the form of myList5 \n",
    "# and translates it into set containing the distinct values of the 'b' elements of each (a,b,c) tuple\n",
    "# Then, call the function on myList5 and put the results in a set called 'mySet'\n",
    "def listToSet(l):\n",
    "    s = set()\n",
    "    for i in l:\n",
    "        s.add(i[1])\n",
    "    return s\n",
    "\n",
    "mySet = listToSet(myList5)\n",
    "print(mySet)\n",
    "# Expected result: {1, 2, 3}"
   ]
  },
  {
   "cell_type": "code",
   "execution_count": null,
   "id": "a2187f88-ac60-4d5e-b4a7-23b4a239d4a7",
   "metadata": {
    "editable": true,
    "tags": [
     "exercise"
    ]
   },
   "outputs": [],
   "source": [
    "# Create a function listToSet2 that behaves like listToSet, but it also takes in input an optional lambda function \n",
    "# The lambda function takes in input an item in the form (a,b,c) and decides what should be returned;\n",
    "# if the function is not specified, it should do like above\n",
    "def listToSet2(l, fun=lambda x: x[1]):\n",
    "    s = set()\n",
    "    for i in l:\n",
    "        s.add(fun(i))\n",
    "    return s"
   ]
  },
  {
   "cell_type": "code",
   "execution_count": null,
   "id": "1258cf74-aa2d-49fc-8c87-e1a1341fc94c",
   "metadata": {
    "editable": true,
    "tags": [
     "exercise"
    ]
   },
   "outputs": [],
   "source": [
    "# Test the function listToSet2 on myList5:\n",
    "# - with no lambda function in input\n",
    "# - with a lambda function that returns the third element of the (a,b,c) tuple\n",
    "# - with a lambda function that returns the first element of the (a,b,c) elevated to the power of 2\n",
    "print(listToSet2(myList5))\n",
    "print(listToSet2(myList5,lambda x:x[2]))\n",
    "print(listToSet2(myList5,lambda x:x[0]**2))\n",
    "# Expected results: \n",
    "# {1, 2, 3}\n",
    "# {'**', '***', '*'}\n",
    "# {1.0, 2.0000000000000004, 2.9999999999999996, 4.0, 5.000000000000001, 5.999999999999999, 7.000000000000001, 8.000000000000002, 9.0, 10.000000000000002}"
   ]
  },
  {
   "cell_type": "code",
   "execution_count": null,
   "id": "3edf3be6-8ba1-4452-ab8e-598c90ee4bf2",
   "metadata": {
    "editable": true,
    "tags": [
     "exercise"
    ]
   },
   "outputs": [],
   "source": [
    "# Create a function listToDict that iterates over a list and creates a dictionary of key-value pairs,\n",
    "# where keys are the distinct elements of the list and values are the number of times that each key appears in the list\n",
    "def listToDict(l):\n",
    "    d = {}\n",
    "    for i in l:\n",
    "        if i in d:\n",
    "            d[i] = d[i]+1\n",
    "        else:\n",
    "            d[i] = 1\n",
    "    return d"
   ]
  },
  {
   "cell_type": "code",
   "execution_count": null,
   "id": "db60bf48-39c1-45d5-8622-0685ab601b29",
   "metadata": {},
   "outputs": [],
   "source": [
    "# Test the listToDict function on:\n",
    "# - a list [\"a\",\"b\",\"b\",\"c\",\"c\",\"c\",\"a\",\"d\"]\n",
    "# - a list created with list comprehension from myList5 considers only the b elements of the (a,b,c) tuples\n",
    "print(listToDict([\"a\",\"b\",\"b\",\"c\",\"c\",\"c\",\"a\",\"d\"]))\n",
    "print(listToDict([x[1] for x in myList5]))\n",
    "# Expected results: \n",
    "# {'a': 2, 'b': 2, 'c': 3, 'd': 1}\n",
    "# {1: 3, 2: 5, 3: 2}"
   ]
  },
  {
   "cell_type": "code",
   "execution_count": null,
   "id": "536c0428-4192-4572-b976-b14603b0de32",
   "metadata": {},
   "outputs": [],
   "source": [
    "# Use dictionary comprehension on the last dictionary obtained above to\n",
    "# - invert keys and values\n",
    "# - multiply values by their keys\n",
    "d = listToDict([x[1] for x in myList5])\n",
    "print({ d[k]:k for k in d.keys() })\n",
    "print({ k:k*d[k] for k in d.keys() })\n",
    "# Expected results: \n",
    "# {3: 1, 5: 2, 2: 3}\n",
    "# {1: 3, 2: 10, 3: 6}"
   ]
  },
  {
   "cell_type": "markdown",
   "id": "50d3019d",
   "metadata": {
    "editable": true,
    "tags": []
   },
   "source": [
    "## Part 2"
   ]
  },
  {
   "cell_type": "code",
   "execution_count": 7,
   "id": "430c73de-b08f-452f-aa70-d693d8c35fe6",
   "metadata": {
    "tags": []
   },
   "outputs": [],
   "source": [
    "grades = [\n",
    " (42, 'Alice', 'Programming and computer architectures', 18, False),\n",
    " (42, 'Alice', 'Database systems', 18, False),\n",
    " (1, 'Bob', 'Fundamentals of accounting', 23, False),\n",
    " (1, 'Bob', 'Fundamentals of management and organization', 30, False),\n",
    " (2, 'Chuck', 'Fundamentals of finance and banking', 28, False),\n",
    " (5, 'Dan', 'Fundamentals of accounting', 24, False),\n",
    " (5, 'Dan', 'Operating systems, networks and web', 23, False),\n",
    " (4, 'Eve', 'Fundamentals of management and organization', 24, False),\n",
    " (4, 'Eve', 'Fundamentals of accounting', 30, True),\n",
    " (99, 'Frank', 'Fundamentals of finance and banking', 23, False),\n",
    " (1, 'Bob', 'Programming and computer architectures', 30, True),\n",
    " (5, 'Dan', 'Database systems', 25, False),\n",
    " (99, 'Frank', 'Fundamentals of management and organization', 26, False),\n",
    " (99, 'Frank', 'Programming and computer architectures', 25, False),\n",
    " (99, 'Frank', 'Database systems', 27, False),\n",
    " (2, 'Chuck', 'Operating systems, networks and web', 26, False),\n",
    " (4, 'Eve', 'Operating systems, networks and web', 30, True),\n",
    " (42, 'Alice', 'Fundamentals of finance and banking', 29, False),\n",
    " (2, 'Chuck', 'Fundamentals of management and organization', 30, True),\n",
    " (99, 'Frank', 'Operating systems, networks and web', 22, False),\n",
    " (2, 'Chuck', 'Database systems', 30, False),\n",
    " (5, 'Dan', 'Fundamentals of finance and banking', 30, False),\n",
    " (2, 'Chuck', 'Fundamentals of accounting', 28, False),\n",
    " (1, 'Bob', 'Operating systems, networks and web', 24, False),\n",
    " (1, 'Bob', 'Database systems', 24, False),\n",
    " (5, 'Dan', 'Fundamentals of management and organization', 19, False),\n",
    " (5, 'Dan', 'Programming and computer architectures', 30, False),\n",
    " (2, 'Chuck', 'Programming and computer architectures', 23, False),\n",
    " (99, 'Frank', 'Fundamentals of accounting', 18, False),\n",
    " (1, 'Bob', 'Fundamentals of finance and banking', 22, False),\n",
    " (4, 'Eve', 'Programming and computer architectures', 24, False),\n",
    " (4, 'Eve', 'Fundamentals of finance and banking', 20, False),\n",
    " (42, 'Alice', 'Fundamentals of accounting', 30, False),\n",
    " (42, 'Alice', 'Operating systems, networks and web', 18, False)\n",
    "]"
   ]
  },
  {
   "cell_type": "code",
   "execution_count": 10,
   "id": "542240ad-cecc-435e-be1e-9e386e46713a",
   "metadata": {},
   "outputs": [
    {
     "name": "stdout",
     "output_type": "stream",
     "text": [
      "{'Alice': 22.6, 'Bob': 25.5, 'Chuck': 27.5, 'Dan': 25.166666666666668, 'Eve': 25.6, 'Frank': 23.5}\n"
     ]
    }
   ],
   "source": [
    "# Create a function 'averages' that returns a dictionary with the average grade for every student\n",
    "# To do this, you can either:\n",
    "# - use two intermediate dictionaries (one to sum the votes for each student, in the form k:sum; the other to count them, in the form k:sum); then, create the final dictionary in the form k:avg (use dictionary comprehension for this)\n",
    "# - use a single dictionary (in the form k:(sum,count)); then, you calculcate the average at the end\n",
    "# - use a single dictionary (in the form k:(avg,count)), where the weighted average is continuously updated\n",
    "def averages_v1(grades):\n",
    "    d_cnt = {}\n",
    "    d_sum = {}\n",
    "    for grade in grades:\n",
    "        if grade[1] in d_cnt.keys():\n",
    "            d_cnt[grade[1]] += 1\n",
    "            d_sum[grade[1]] += grade[3]\n",
    "        else:\n",
    "            d_cnt[grade[1]] = 1\n",
    "            d_sum[grade[1]] = grade[3]\n",
    "    return { stud:d_sum[stud]/d_cnt[stud] for stud in d_cnt.keys() }\n",
    "\n",
    "def averages_v2(grades):\n",
    "    d = {}\n",
    "    for grade in grades:\n",
    "        if grade[1] in d.keys():\n",
    "            d[grade[1]] = (d[grade[1]][0] + grade[3], d[grade[1]][1] + 1)\n",
    "        else:\n",
    "            d[grade[1]] = (grade[3], 1)\n",
    "    return { stud:d[stud][0]/d[stud][1] for stud in d.keys() }\n",
    "\n",
    "def averages_v3(grades):\n",
    "    d = {}\n",
    "    for grade in grades:\n",
    "        avg, cnt = d.get(grade[1],(0,0))\n",
    "        d[grade[1]] = ( ((avg*cnt) + grade[3])/(cnt+1), cnt+1)\n",
    "    return { stud:d[stud][0] for stud in d.keys() }\n",
    "    \n",
    "print(averages_v3(grades))\n",
    "# Expected result: {'Alice': 22.6, 'Bob': 25.5, 'Chuck': 27.5, 'Dan': 25.166666666666668, 'Eve': 25.6, 'Frank': 23.5}"
   ]
  },
  {
   "cell_type": "code",
   "execution_count": null,
   "id": "f89cd228-00b2-4daa-92a1-1dd3c746b1ee",
   "metadata": {},
   "outputs": [],
   "source": [
    "# Extend the function 'averages' to also take in input an optional string parameter 'groupby' that can take two values: \"student\" or \"course\"\n",
    "# - If 'groupby' is anything different, the function should return None\n",
    "# - If 'groupby' is \"student\" (or no value is given), the function 'averages' should do as above\n",
    "# - If 'groupby' is \"course\", the function 'averages' should calculate the average by course instead of by student\n",
    "# Test all possibilities\n",
    "def averages(grades,groupby=\"student\"):\n",
    "    if groupby != \"student\" and groupby!= \"course\":\n",
    "        return None\n",
    "    d_cnt = {}\n",
    "    d_sum = {}\n",
    "    for grade in grades:\n",
    "        if groupby == \"student\":\n",
    "            ix = 1\n",
    "        else:\n",
    "            ix = 2\n",
    "            \n",
    "        if grade[ix] in d_cnt.keys():\n",
    "            d_cnt[grade[ix]] += 1\n",
    "            d_sum[grade[ix]] += grade[3]\n",
    "        else:\n",
    "            d_cnt[grade[ix]] = 1\n",
    "            d_sum[grade[ix]] = grade[3]\n",
    "    return { elem:d_sum[elem]/d_cnt[elem] for elem in d_cnt.keys() }\n",
    "    \n",
    "print(averages(grades))\n",
    "print(averages(grades,\"xyz\"))\n",
    "print(averages(grades,\"student\"))\n",
    "print(averages(grades,\"course\"))\n",
    "# Expected result with no groupby argument: {'Alice': 22.6, 'Bob': 25.5, 'Chuck': 27.5, 'Dan': 25.166666666666668, 'Eve': 25.6, 'Frank': 23.5}\n",
    "# Expected result with non-valid groupby argument: None\n",
    "# Expected result with \"student\" as groupby argument: {'Alice': 22.6, 'Bob': 25.5, 'Chuck': 27.5, 'Dan': 25.166666666666668, 'Eve': 25.6, 'Frank': 23.5}\n",
    "# Expected result with \"course\" as groupby argument: \n",
    "# {'Programming and computer architectures': 25.0, 'Database systems': 24.8, 'Fundamentals of accounting': 25.5, 'Fundamentals of management and organization': 25.8, \n",
    "# 'Fundamentals of finance and banking': 25.333333333333332, 'Operating systems, networks and web': 23.833333333333332}"
   ]
  },
  {
   "cell_type": "code",
   "execution_count": null,
   "id": "6a1ff1a5-2029-4d59-8a9d-d4557e973bd6",
   "metadata": {},
   "outputs": [],
   "source": [
    "# Iterate over 'grades' with a for loop and return a list 'laudes' of the students (without repetitions) that received at least a laude\n",
    "laudes = []\n",
    "for grade in grades:\n",
    "    if grade[4] and grade[1] not in laudes:\n",
    "        laudes.append(grade[1])\n",
    "print(laudes)\n",
    "# Expected result: ['Eve', 'Bob', 'Chuck']"
   ]
  },
  {
   "cell_type": "code",
   "execution_count": null,
   "id": "a214544c-1adc-48d0-a151-96e0d7dfca9f",
   "metadata": {},
   "outputs": [],
   "source": [
    "# Iterate over 'grades' with a while loop and print only the first grade that you can find with a laude\n",
    "i = 0\n",
    "while i<len(grades):\n",
    "    if grades[i][4]:\n",
    "        print(grades[i])\n",
    "        break\n",
    "    i+=1\n",
    "# Expected result: (4, 'Eve', 'Fundamentals of accounting', 30, True)"
   ]
  },
  {
   "cell_type": "code",
   "execution_count": null,
   "id": "f6b9fb84-bebc-4cce-b9eb-b8e1367263c7",
   "metadata": {},
   "outputs": [],
   "source": [
    "# Create a set with just the names of the courses listed in 'grades'\n",
    "s = set()\n",
    "for grade in grades:\n",
    "    s.add(grade[2])\n",
    "print(s)\n",
    "# Expected result: \n",
    "# {'Programming and computer architectures', 'Fundamentals of management and organization', \n",
    "# 'Operating systems, networks and web', 'Database systems', 'Fundamentals of finance and banking', 'Fundamentals of accounting'}"
   ]
  },
  {
   "cell_type": "code",
   "execution_count": null,
   "id": "9c53a11f-89c2-4b66-b4a3-ba0a5a98a799",
   "metadata": {},
   "outputs": [],
   "source": [
    "# Create a set as above, but the names of the courses should be their acronyms (e.g., \"Programming and computer architectures\" becomes \"PCA\")\n",
    "# Do not consider the words \"of\" and \"and\" if found\n",
    "s = set()\n",
    "for grade in grades:\n",
    "    words = grade[2].upper().split()\n",
    "    acronym = \"\"\n",
    "    for w in words:\n",
    "        if w != \"OF\" and w != \"AND\":\n",
    "            acronym += w[0]\n",
    "    s.add(acronym)\n",
    "print(s)\n",
    "# Expected result: {'DS', 'FFB', 'FMO', 'OSNW', 'FA', 'PCA'}"
   ]
  },
  {
   "cell_type": "code",
   "execution_count": null,
   "id": "91e6cf72-c182-4e89-972b-02a675e4d3d3",
   "metadata": {},
   "outputs": [],
   "source": [
    "# Put the creation of the acronym in a function\n",
    "# Then, use the function to replace the course names with their acronym in the 'grades' list\n",
    "# Remember that lists are mutable: replace the elements of the list, not the whole list! \n",
    "def acronym(txt):\n",
    "    words = txt.upper().split()\n",
    "    acronym = \"\"\n",
    "    for w in words:\n",
    "        if w != \"OF\" and w != \"AND\":\n",
    "            acronym += w[0]\n",
    "    return acronym\n",
    "\n",
    "i = 0\n",
    "while i<len(grades):\n",
    "    grades[i] = (grades[i][0], grades[i][1], acronym(grades[i][2]), grades[i][3], grades[i][4])\n",
    "    i += 1\n",
    "print(grades)\n",
    "# Expected result: \n",
    "# [(42, 'Alice', 'PCA', 18, False), (42, 'Alice', 'DS', 18, False), (1, 'Bob', 'FA', 23, False), (1, 'Bob', 'FMO', 30, False), (2, 'Chuck', 'FFB', 28, False), \n",
    "# (5, 'Dan', 'FA', 24, False), (5, 'Dan', 'OSNW', 23, False), (4, 'Eve', 'FMO', 24, False), (4, 'Eve', 'FA', 30, True), (99, 'Frank', 'FFB', 23, False), \n",
    "# (1, 'Bob', 'PCA', 30, True), (5, 'Dan', 'DS', 25, False), (99, 'Frank', 'FMO', 26, False), (99, 'Frank', 'PCA', 25, False), (99, 'Frank', 'DS', 27, False), \n",
    "# (2, 'Chuck', 'OSNW', 26, False), (4, 'Eve', 'OSNW', 30, True), (42, 'Alice', 'FFB', 29, False), (2, 'Chuck', 'FMO', 30, True), (99, 'Frank', 'OSNW', 22, False), \n",
    "# (2, 'Chuck', 'DS', 30, False), (5, 'Dan', 'FFB', 30, False), (2, 'Chuck', 'FA', 28, False), (1, 'Bob', 'OSNW', 24, False), (1, 'Bob', 'DS', 24, False), \n",
    "# (5, 'Dan', 'FMO', 19, False), (5, 'Dan', 'PCA', 30, False), (2, 'Chuck', 'PCA', 23, False), (99, 'Frank', 'FA', 18, False), (1, 'Bob', 'FFB', 22, False), \n",
    "# (4, 'Eve', 'PCA', 24, False), (4, 'Eve', 'FFB', 20, False), (42, 'Alice', 'FA', 30, False), (42, 'Alice', 'OSNW', 18, False)]"
   ]
  },
  {
   "cell_type": "code",
   "execution_count": null,
   "id": "3e662f86-30f2-4c5f-bc0e-ed1f7adedf16",
   "metadata": {},
   "outputs": [],
   "source": [
    "# Return the median of the votes in 'grades' (i.e., the vote that appears the most)\n",
    "# Use a dictionary to count how many times each vote appears\n",
    "d_cnt = {}\n",
    "for grade in grades:\n",
    "    if grade[3] in d_cnt.keys():\n",
    "        d_cnt[grade[3]] = d_cnt[grade[3]] + 1\n",
    "    else:\n",
    "        d_cnt[grade[3]] = 1\n",
    "\n",
    "max_cnt = 0\n",
    "max_vote = 0\n",
    "for k in d_cnt.keys():\n",
    "    if d_cnt[k]>max_cnt:\n",
    "        max_cnt = d_cnt[k]\n",
    "        max_vote = k\n",
    "\n",
    "# Or simply this:\n",
    "# max_vote = max(d_cnt)\n",
    "        \n",
    "print(\"Maximum vote is\",max_vote,\"which appears\",d_cnt[max_vote],\"times\")\n",
    "# Expected result: Maximum vote is 30 which appears 9 times"
   ]
  }
 ],
 "metadata": {
  "kernelspec": {
   "display_name": "Python 3",
   "language": "python",
   "name": "python3"
  },
  "language_info": {
   "codemirror_mode": {
    "name": "ipython",
    "version": 3
   },
   "file_extension": ".py",
   "mimetype": "text/x-python",
   "name": "python",
   "nbconvert_exporter": "python",
   "pygments_lexer": "ipython3",
   "version": "3.12.6"
  },
  "toc-autonumbering": false,
  "toc-showcode": true,
  "toc-showmarkdowntxt": true,
  "toc-showtags": true
 },
 "nbformat": 4,
 "nbformat_minor": 5
}
