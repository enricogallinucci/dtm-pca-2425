{
 "cells": [
  {
   "cell_type": "markdown",
   "id": "732f34fe",
   "metadata": {
    "deletable": true,
    "editable": true,
    "tags": []
   },
   "source": [
    "# Lab 6: Data structures\n",
    "\n",
    "Welcome to the sixth lab of the course, covering basic operations on data structures."
   ]
  },
  {
   "cell_type": "markdown",
   "id": "2f3256ae",
   "metadata": {
    "deletable": true,
    "editable": true,
    "tags": []
   },
   "source": [
    "## Exercise 1: Tuple basics\n",
    "\n",
    "In the following cell, some tuples have been created for you. Write and test the following functions:\n",
    "- 'printTupleElements(t)' to iterate over the elements of 't' and print each of them\n",
    "- 'intersectTuples(t1,t2)' to return the intersection of two tuples\n",
    "  - **Hint**: iterate over elements of t1 and add them to a new tuple t3 if they appear in t2\n",
    "- 'unionTuples(t1,t2)' to return the union of two tuples\n",
    "  - **Hint**: iterate over elements of t1 and add them to a new tuple t3; then, iterate over elements of t2 and add them to t3 if they do not appear already in t3\n",
    "- 'deleteFromTuple(t,n)' to return a tuple without the n-th element (0-based)"
   ]
  },
  {
   "cell_type": "code",
   "execution_count": null,
   "id": "a4acc2a0-8941-495c-bb32-0cd6748f3a39",
   "metadata": {
    "tags": []
   },
   "outputs": [],
   "source": [
    "t1 = ('a','b','c')\n",
    "t2 = ('d','c','b')\n",
    "\n",
    "# Write functions here"
   ]
  },
  {
   "cell_type": "code",
   "execution_count": null,
   "id": "f258f8aa-1857-4d57-a7b7-8cb12146db6c",
   "metadata": {
    "tags": []
   },
   "outputs": [],
   "source": [
    "printTupleElements(t1) \n",
    "# Must return \n",
    "# a\n",
    "# b\n",
    "# c"
   ]
  },
  {
   "cell_type": "code",
   "execution_count": null,
   "id": "49cad0f9-78ac-4a1b-9923-a9ce3b989d40",
   "metadata": {
    "tags": []
   },
   "outputs": [],
   "source": [
    "printTupleElements(t2)\n",
    "# Must return \n",
    "# d\n",
    "# c\n",
    "# b"
   ]
  },
  {
   "cell_type": "code",
   "execution_count": null,
   "id": "b63595a1-a3f3-468f-a3c8-004764e39254",
   "metadata": {
    "tags": []
   },
   "outputs": [],
   "source": [
    "intersectTuples(t1,t2)\n",
    "# Must return\n",
    "# ('b', 'c')"
   ]
  },
  {
   "cell_type": "code",
   "execution_count": null,
   "id": "95c8726d-9501-4eb4-b77b-c720e0e5e669",
   "metadata": {
    "tags": []
   },
   "outputs": [],
   "source": [
    "unionTuples(t1,t2)\n",
    "# Must return\n",
    "# ('a', 'b', 'c', 'd')"
   ]
  },
  {
   "cell_type": "code",
   "execution_count": null,
   "id": "ef9c3592-aed7-4525-9a7c-b7f9ae9fbfe0",
   "metadata": {
    "tags": []
   },
   "outputs": [],
   "source": [
    "deleteFromTuple(t1,0)\n",
    "# Must return\n",
    "# ('b', 'c')"
   ]
  },
  {
   "cell_type": "code",
   "execution_count": null,
   "id": "013e750a-96d6-4865-a367-9dd998797490",
   "metadata": {
    "tags": []
   },
   "outputs": [],
   "source": [
    "deleteFromTuple(t1,2)\n",
    "# Must return\n",
    "# ('a', 'b')"
   ]
  },
  {
   "cell_type": "markdown",
   "id": "feeb7e50-44da-4ce7-8d2f-98f0cfe316e6",
   "metadata": {},
   "source": [
    "## Extra exercises\n",
    "\n",
    "Define the union and the intersection on a variable number of tuples\n",
    "- **Hint**: iterate over each tuple and carry out the union between the current tuple and the result from the previous union; the question is: what should happen in the first iteration?"
   ]
  },
  {
   "cell_type": "code",
   "execution_count": null,
   "id": "d6a669a6",
   "metadata": {},
   "outputs": [],
   "source": [
    "unionMoreTuples((1,2),(2,3),(3,4),(1,2,3))\n",
    "# Must return\n",
    "# (1, 2, 3, 4)"
   ]
  },
  {
   "cell_type": "code",
   "execution_count": null,
   "id": "a61fb199",
   "metadata": {},
   "outputs": [],
   "source": [
    "intersectMoreTuples((1,2,3,4),(3,2,5),(2,3,4))\n",
    "# Must return\n",
    "# (2, 3)"
   ]
  },
  {
   "cell_type": "markdown",
   "id": "e4da566c-53af-4c5b-83a9-7e52860a9d75",
   "metadata": {
    "editable": true,
    "tags": []
   },
   "source": [
    "## Exercise 2: List basics\n",
    "\n",
    "In the following cell, some lists have been created for you. Write and test the following functions:\n",
    "- 'printListElements(l)' to iterate over the elements of 'l' and print each of them\n",
    "- 'intersectLists(l1,l2)' to return the intersection of two lists\n",
    "  - **Hint**: use the 'append' method of lists\n",
    "- 'unionLists(l1,l2)' to return the union of two lists\n",
    "  - **Hint**: use the 'extend' method of lists\n",
    "- 'deleteFromList(l,n)' to return a list without the n-th element (0-based)\n",
    "  - **Hint**: use the 'del' function without mutating the original list"
   ]
  },
  {
   "cell_type": "code",
   "execution_count": null,
   "id": "3bc31d97-9edb-44bb-84d3-207ed9cf0313",
   "metadata": {
    "tags": []
   },
   "outputs": [],
   "source": [
    "l1 = ['a','b','c']\n",
    "l2 = ['d','c','b']\n",
    "\n",
    "# Write functions here"
   ]
  },
  {
   "cell_type": "code",
   "execution_count": null,
   "id": "fef5850e-5b3e-45e8-b7a6-0508bc9a400c",
   "metadata": {
    "tags": []
   },
   "outputs": [],
   "source": [
    "printListElements(l1)\n",
    "# Must return\n",
    "# a\n",
    "# b\n",
    "# c"
   ]
  },
  {
   "cell_type": "code",
   "execution_count": null,
   "id": "3013897e-0a12-4662-8d88-549a4856d30d",
   "metadata": {
    "tags": []
   },
   "outputs": [],
   "source": [
    "printListElements(l2)\n",
    "# Must return\n",
    "# d\n",
    "# c\n",
    "# b"
   ]
  },
  {
   "cell_type": "code",
   "execution_count": null,
   "id": "72633f47-44de-484b-a716-0365242aa95a",
   "metadata": {
    "tags": []
   },
   "outputs": [],
   "source": [
    "intersectLists(l1,l2)\n",
    "# Must return\n",
    "# ['b', 'c']"
   ]
  },
  {
   "cell_type": "code",
   "execution_count": null,
   "id": "062c668f-3c42-4610-9252-4cef318b40d6",
   "metadata": {
    "tags": []
   },
   "outputs": [],
   "source": [
    "unionLists(l1,l2)\n",
    "# Must return\n",
    "# ['a', 'b', 'c', 'd']"
   ]
  },
  {
   "cell_type": "code",
   "execution_count": null,
   "id": "354c0ca4-be20-422c-a290-1ceb98a1d566",
   "metadata": {
    "tags": []
   },
   "outputs": [],
   "source": [
    "deleteFromList(l1,0)\n",
    "# Must return\n",
    "# ['b', 'c']"
   ]
  },
  {
   "cell_type": "code",
   "execution_count": null,
   "id": "6912f2e1-9d37-4329-b205-d6ffc7dae857",
   "metadata": {
    "tags": []
   },
   "outputs": [],
   "source": [
    "deleteFromList(l1,2)\n",
    "# Must return\n",
    "# ['a', 'b']"
   ]
  },
  {
   "cell_type": "markdown",
   "id": "bec88b39-b22d-4cef-a353-66fe9fa7083c",
   "metadata": {
    "editable": true,
    "tags": []
   },
   "source": [
    "## Exercise 3: Set basics\n",
    "\n",
    "In the following cell, some sets have been created for you. Write and test the following functions:\n",
    "- 'printSetElements(s)' to iterate over the elements of 's' and print each of them\n",
    "- 'intersectSets(s1,s2)' to return the intersection of two sets\n",
    "  - **Hint**: use the & operator\n",
    "- 'unionSets(s1,s2)' to return the union of two sets\n",
    "  - **Hint**: use the | operator\n",
    "- 'deleteFromSet(s,el)' to return a set without the 'el' element\n",
    "  - **Hint**: return a new set without the element in input"
   ]
  },
  {
   "cell_type": "code",
   "execution_count": null,
   "id": "9a858f89-3b70-48aa-9fc4-fa16515c3b23",
   "metadata": {
    "tags": []
   },
   "outputs": [],
   "source": [
    "s1 = {'a','b','c'}\n",
    "s2 = {'d','c','b'}\n",
    "\n",
    "# Write functions here"
   ]
  },
  {
   "cell_type": "code",
   "execution_count": null,
   "id": "ba6d3d8b-0ddf-436d-b4fa-4b8354dd2fd3",
   "metadata": {
    "tags": []
   },
   "outputs": [],
   "source": [
    "printSetElements(s1)\n",
    "# Must return\n",
    "# a\n",
    "# b\n",
    "# c"
   ]
  },
  {
   "cell_type": "code",
   "execution_count": null,
   "id": "2eb62565-53ca-415f-aa2b-b5c9f0940f08",
   "metadata": {
    "tags": []
   },
   "outputs": [],
   "source": [
    "printSetElements(s2)\n",
    "# Must return\n",
    "# d\n",
    "# c\n",
    "# b"
   ]
  },
  {
   "cell_type": "code",
   "execution_count": null,
   "id": "5bf7bea5-b519-421b-99a5-aa57fbebe3cd",
   "metadata": {
    "tags": []
   },
   "outputs": [],
   "source": [
    "intersectSets(s1,s2)\n",
    "# Must return\n",
    "# {'b', 'c'}"
   ]
  },
  {
   "cell_type": "code",
   "execution_count": null,
   "id": "c188dc1d-799a-4786-babb-d79f01a90708",
   "metadata": {
    "tags": []
   },
   "outputs": [],
   "source": [
    "unionSets(s1,s2)\n",
    "# Must return\n",
    "# {'a', 'b', 'c', 'd'}"
   ]
  },
  {
   "cell_type": "code",
   "execution_count": null,
   "id": "0b92c333-1ed9-45f6-8f25-20e0e81b430c",
   "metadata": {
    "tags": []
   },
   "outputs": [],
   "source": [
    "deleteFromSet(s1,'a')\n",
    "# Must return\n",
    "# {'b', 'c'}"
   ]
  },
  {
   "cell_type": "markdown",
   "id": "4920efbb-52ee-43a6-aa23-8402ee654d7c",
   "metadata": {
    "editable": true,
    "tags": []
   },
   "source": [
    "## Exercise 4: Dictionary basics\n",
    "\n",
    "In the following cell, some dictionaries have been created for you. Write and test the following functions:\n",
    "- 'printDictElements(d)' to iterate over the elements of 'd' and print each of them\n",
    "- 'intersectDicts(d1,d2)' to return a dictionary containing only the keys that appear in both input dictionaries (the value must be the sum of the values on the input dictionaries);\n",
    "  - **Hint**: same logic as with tuples, but iterating on the keys\n",
    "- 'unionDicts(d1,d2)' to return dictionary containing all keys appearing in the two input dictionaries (as above, for common keys, the value must be the sum of the values on the input dictionaries);\n",
    "  - **Hint**: like with interesction, but keys existing in only one dictionary should also be added to the new dictionary\n",
    "- 'deleteFromDict(d,k)' to return a dictionary without the element with key 'k'\n",
    "  - **Hint**: return a new dictionary, do not mutate the existing one"
   ]
  },
  {
   "cell_type": "code",
   "execution_count": null,
   "id": "bbfad72d-b0cf-41eb-84e3-4797e6b7c919",
   "metadata": {
    "tags": []
   },
   "outputs": [],
   "source": [
    "d1 = {'a':1,'b':2,'c':3}\n",
    "d2 = {'d':4,'c':5,'b':6}\n",
    "\n",
    "# Write functions here"
   ]
  },
  {
   "cell_type": "code",
   "execution_count": null,
   "id": "8a3e0a3b-e181-4baa-9a91-401ee3fc1094",
   "metadata": {
    "tags": []
   },
   "outputs": [],
   "source": [
    "printDictElements(d1)\n",
    "# Must return\n",
    "# a\n",
    "# b\n",
    "# c"
   ]
  },
  {
   "cell_type": "code",
   "execution_count": null,
   "id": "0c824f73-9bf9-4ea6-8e43-b2cd8616c1ec",
   "metadata": {
    "tags": []
   },
   "outputs": [],
   "source": [
    "printDictElements(d2)\n",
    "# Must return\n",
    "# d\n",
    "# c\n",
    "# b"
   ]
  },
  {
   "cell_type": "code",
   "execution_count": null,
   "id": "c1efc252-f85b-4b99-8565-d937e9fe5d0a",
   "metadata": {
    "tags": []
   },
   "outputs": [],
   "source": [
    "intersectDicts(d1,d2)\n",
    "# Must return\n",
    "# {'b': 8, 'c': 8}"
   ]
  },
  {
   "cell_type": "code",
   "execution_count": null,
   "id": "ab60721e-1e2e-4393-b05e-3fa7d7c4fa1c",
   "metadata": {
    "tags": []
   },
   "outputs": [],
   "source": [
    "unionDicts(d1,d2)\n",
    "# Must return\n",
    "# {'a': 1, 'b': 8, 'c': 8, 'd': 4}"
   ]
  },
  {
   "cell_type": "code",
   "execution_count": null,
   "id": "514646a5-2ea2-4fbc-9d2c-b9ad96429b32",
   "metadata": {
    "tags": []
   },
   "outputs": [],
   "source": [
    "deleteFromDict(d1,'a')\n",
    "# Must return\n",
    "# {'b': 2, 'c': 3}"
   ]
  }
 ],
 "metadata": {
  "kernelspec": {
   "display_name": "Python 3 (ipykernel)",
   "language": "python",
   "name": "python3"
  },
  "language_info": {
   "codemirror_mode": {
    "name": "ipython",
    "version": 3
   },
   "file_extension": ".py",
   "mimetype": "text/x-python",
   "name": "python",
   "nbconvert_exporter": "python",
   "pygments_lexer": "ipython3",
   "version": "3.12.4"
  },
  "toc-autonumbering": false,
  "toc-showcode": true,
  "toc-showmarkdowntxt": true,
  "toc-showtags": true
 },
 "nbformat": 4,
 "nbformat_minor": 5
}
